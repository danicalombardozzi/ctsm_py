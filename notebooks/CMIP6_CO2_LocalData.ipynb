{
 "cells": [
  {
   "cell_type": "code",
   "execution_count": 1,
   "metadata": {},
   "outputs": [],
   "source": [
    "import xarray as xr\n",
    "import numpy as np\n",
    "import matplotlib.pyplot as plt\n",
    "import esmlab\n",
    "import pandas as pd\n",
    "import warnings\n",
    "warnings.filterwarnings(\"ignore\")"
   ]
  },
  {
   "cell_type": "markdown",
   "metadata": {},
   "source": [
    "### Reading in Data"
   ]
  },
  {
   "cell_type": "code",
   "execution_count": 2,
   "metadata": {},
   "outputs": [],
   "source": [
    "dir = '/glade/p/cesm/lmwg_dev/dll/CMIP6_CO2/CatCO2data/'\n",
    "#note: 'CNRM-ESM2-1' uses r1k1p1f2 -- does this mean it's different in some way?\n",
    "\n",
    "BCC_CSM2 = xr.open_dataset(dir + \"co2_Amon_BCC-CSM2-MR_historical_r1i1p1f1_gn_185001-201412.nc\")\n",
    "BCC_ESM1 = xr.open_dataset(dir + \"co2_Amon_BCC-ESM1_historical_r1i1p1f1_gn_185001-201412.nc\")\n",
    "CNRM     = xr.open_dataset(dir + \"co2_Amon_CNRM-ESM2-1_historical_r1i1p1f2_gr_185001-201412.nc\")\n",
    "GFDL     = xr.open_dataset(dir + \"co2_Amon_GFDL-ESM4_historical_r1i1p1f1_gr1_185001-201412.nc\")\n",
    "MRI      = xr.open_dataset(dir + \"co2_Amon_MRI-ESM2-0_historical_r1i1p1f1_gn_185001-201412.nc\")\n",
    "NorESM   = xr.open_dataset(dir + \"co2_Amon_NorESM2-MM_historical_r1i1p1f1_gn_185001-201412.nc\")\n",
    "#CESM     = xr.open_dataset(dir + \"co2_Amon_CESM2_historical_r1i1p1f1_gn_185001-201412.nc\")\n",
    "CESM     = xr.open_dataset(dir + \"co2_Amon_CESM2_esm-hist_r1i1p1f1_gn_185001-201412.nc\")\n"
   ]
  },
  {
   "cell_type": "markdown",
   "metadata": {},
   "source": [
    "### Updating coordinates so math functions work properly"
   ]
  },
  {
   "cell_type": "code",
   "execution_count": 3,
   "metadata": {},
   "outputs": [],
   "source": [
    "#coordinates are already properly set for CNRM\n",
    "#BCC_CSM2 = BCC_CSM2.set_coords(['time_bnds', 'lat_bnds', 'lon_bnds'])\n",
    "BCC_ESM1 = BCC_ESM1.set_coords(['time_bnds', 'lat_bnds', 'lon_bnds'])\n",
    "#CNRM     = CNRM.set_coords(['time_bnds', 'lat_bnds', 'lon_bnds'])\n",
    "GFDL     = GFDL.set_coords(['time_bnds', 'lat_bnds', 'lon_bnds'])\n",
    "MRI      = MRI.set_coords(['time_bnds', 'lat_bnds', 'lon_bnds'])\n",
    "NorESM   = NorESM.set_coords(['time_bnds', 'lat_bnds', 'lon_bnds'])\n",
    "CESM     = CESM.set_coords(['time_bnds', 'lat_bnds', 'lon_bnds'])"
   ]
  },
  {
   "cell_type": "code",
   "execution_count": 4,
   "metadata": {},
   "outputs": [],
   "source": [
    "#CESM"
   ]
  },
  {
   "cell_type": "markdown",
   "metadata": {},
   "source": [
    "### Setting up dictionary for easier manipulation"
   ]
  },
  {
   "cell_type": "code",
   "execution_count": 5,
   "metadata": {},
   "outputs": [],
   "source": [
    "co2_ds = dict()\n",
    "#co2_ds['BCC_CSM2']  = BCC_CSM2.co2\n",
    "co2_ds['BCC_ESM1']  = BCC_ESM1.co2\n",
    "co2_ds['CNRM']      = CNRM.co2\n",
    "co2_ds['GFDL']      = GFDL.co2\n",
    "co2_ds['MRI']       = MRI.co2\n",
    "co2_ds['NorESM']    = NorESM.co2\n",
    "co2_ds['CESM']      = CESM.co2"
   ]
  },
  {
   "cell_type": "code",
   "execution_count": null,
   "metadata": {
    "jupyter": {
     "source_hidden": true
    }
   },
   "outputs": [],
   "source": [
    "co2_ds"
   ]
  },
  {
   "cell_type": "code",
   "execution_count": 6,
   "metadata": {},
   "outputs": [],
   "source": [
    "#converting to ppm\n",
    "convert = 10.0**6"
   ]
  },
  {
   "cell_type": "markdown",
   "metadata": {
    "jupyter": {
     "source_hidden": true
    }
   },
   "source": [
    "### Setting up arrays to subset points"
   ]
  },
  {
   "cell_type": "code",
   "execution_count": null,
   "metadata": {
    "jupyter": {
     "source_hidden": true
    }
   },
   "outputs": [],
   "source": [
    "#Locations: Mauna Loa, Barrow, Niwot\n",
    "lats=np.array([71.3,19.5,40.1])\n",
    "lons=np.array([360-156.61,360-155.6,360-105.6])\n",
    "pres=np.array([68000, 99800, 70000])"
   ]
  },
  {
   "cell_type": "markdown",
   "metadata": {
    "jupyter": {
     "source_hidden": true
    }
   },
   "source": [
    "### Testing model and location subsets to determine maximum CO2 concentrations "
   ]
  },
  {
   "cell_type": "code",
   "execution_count": null,
   "metadata": {
    "jupyter": {
     "source_hidden": true
    }
   },
   "outputs": [],
   "source": [
    "#Locations: Mauna Loa=0, Barrow=1, Niwot=2\n",
    "x=0\n",
    "test = []\n",
    "test = co2_ds['CESM'].sel(lat=lats[x],lon=lons[x], plev=pres[x], method='nearest')\n",
    "#test = co2_ds['CESM'].sel(lat=slice(30,90))\n",
    "test = test.isel(time=slice(-60, None))*convert\n",
    "#test = test.isel(time=slice(-60, None), plev=1)*convert\n",
    "test.max()"
   ]
  },
  {
   "cell_type": "markdown",
   "metadata": {},
   "source": [
    "### Observational Data"
   ]
  },
  {
   "cell_type": "code",
   "execution_count": 7,
   "metadata": {},
   "outputs": [],
   "source": [
    "path='/glade/work/dll/CTSM_py/notebooks/'\n",
    "brw={'name':'Barrow', 'acronym': 'brw',  'lat': 71.3, 'lon':360-156.61, 'z': 11.0}\n",
    "mlo={'name':'Mauna Loa', 'acronym': 'mlo', 'lat': 19.5, 'lon':360-155.6, 'z':3397.0}\n",
    "nwr={'name':'Niwot Ridge', 'acronym':'nwr', 'lat':40.1, 'lon':360-105.6, 'z':3523.0}"
   ]
  },
  {
   "cell_type": "code",
   "execution_count": 8,
   "metadata": {},
   "outputs": [],
   "source": [
    "ESRL=[brw, mlo, nwr]"
   ]
  },
  {
   "cell_type": "code",
   "execution_count": 9,
   "metadata": {},
   "outputs": [
    {
     "name": "stdout",
     "output_type": "stream",
     "text": [
      "brw first year 1971.0 last year 2018.0\n",
      "mlo first year 1959.0 last year 2018.0\n",
      "nwr first year 1968.0 last year 2019.0\n"
     ]
    }
   ],
   "source": [
    "dfs = []\n",
    "\n",
    "for site in ESRL:\n",
    "#    print(site)\n",
    "    filename=path+'co2_'+site['acronym']+'_surface-flask_1_ccgg_month.txt'\n",
    "    #import glob\n",
    "    #filename=glob.glob(partialname+ '*co2')\n",
    "    with open(filename, 'r') as fid:\n",
    "        first_line=fid.readline()\n",
    "        nheader=first_line[-3:-1]\n",
    "        nheader=np.int(np.float(nheader))\n",
    "    data=np.loadtxt(filename, usecols=(1,2,3), skiprows=nheader)\n",
    "    time=data[:,0]+data[:,1]/12\n",
    "    co2=data[:,2]\n",
    "    month=data[:,1]\n",
    "    year=data[:,0]\n",
    "    site['year']=year.astype(int)\n",
    "    site['month']=month.astype(int)\n",
    "    site['co2']=co2\n",
    "    dfs.append(pd.DataFrame(site)) #turn dictionary into a pandas dataframe\n",
    "    \n",
    "    print(site['acronym']+' first year '+str(min(year)) +' last year '+str(max(year)))\n",
    "    \n",
    "df = pd.concat(dfs)\n",
    "df['time'] = pd.to_datetime(df.year.astype('str') + '-' + df.month.astype('str'))"
   ]
  },
  {
   "cell_type": "markdown",
   "metadata": {},
   "source": [
    "### Calculating Observation Amplitude"
   ]
  },
  {
   "cell_type": "code",
   "execution_count": 10,
   "metadata": {},
   "outputs": [],
   "source": [
    "ds = df.set_index(['time', 'name'])[['co2']].to_xarray()\n",
    "\n",
    "grouped = ds.groupby('name')\n",
    "dsets = []\n",
    "for site, dataset in grouped:\n",
    "    g = dataset.groupby('time.year')\n",
    "    r = (g.max() - g.min())\n",
    "    dsets.append(r)\n",
    "\n",
    "x = xr.concat(dsets, dim='name')"
   ]
  },
  {
   "cell_type": "markdown",
   "metadata": {},
   "source": [
    "### Pulling out site locations"
   ]
  },
  {
   "cell_type": "code",
   "execution_count": null,
   "metadata": {},
   "outputs": [],
   "source": [
    "ml_nbp = {}\n",
    "bar_nbp = {}\n",
    "nwt_nbp = {}\n",
    "\n",
    "ml_nbp_mean = {}\n",
    "ml_nbp_std = {}\n",
    "ml_pct_diff = {}\n",
    "bar_nbp_mean = {}\n",
    "bar_nbp_std = {}\n",
    "bar_pct_diff = {}\n",
    "nwt_nbp_mean = {}\n",
    "nwt_nbp_std = {}\n",
    "nwt_pct_diff = {}\n",
    "\n",
    "for sim_name, data in co2_ds.items():\n",
    "    ml_nbp[sim_name] = data.sel(lat=19.5,lon=204.4, plev=70000, method='nearest')* convert\n",
    "    bar_nbp[sim_name] = data.sel(lat=71.3,lon=203.4, plev=92500, method='nearest')* convert\n",
    "    nwt_nbp[sim_name] = data.sel(lat=40.1,lon=254.4, plev=70000, method='nearest')* convert"
   ]
  },
  {
   "cell_type": "markdown",
   "metadata": {},
   "source": [
    "### Calculating CMIP6 amplitude time series and 2000-2015 mean and error for each location"
   ]
  },
  {
   "cell_type": "code",
   "execution_count": null,
   "metadata": {},
   "outputs": [],
   "source": [
    "# Mauna Loa\n",
    "for sim_name, data in ml_nbp.items():\n",
    "    co2amp = data.resample(time=\"Y\").max() - data.resample(time=\"Y\").min()\n",
    "    ml_nbp[sim_name] = co2amp\n",
    "    co2_mean_amp = co2amp.sel(time=slice(\"2010\", \"2015\")).mean()\n",
    "    ml_nbp_mean[sim_name] = co2_mean_amp\n",
    "    co2_std_amp = co2amp.isel(time=slice(-60, None)).std()\n",
    "    ml_nbp_std[sim_name] = co2_std_amp\n",
    "    ml_pct_diff[sim_name] = (co2amp.sel(time=slice(\"2010\", \"2015\")).mean() - co2amp.sel(time=slice(\"1970\", \"1975\")).mean())/(co2amp.sel(time=slice(\"1970\", \"1975\")).mean())*100"
   ]
  },
  {
   "cell_type": "code",
   "execution_count": null,
   "metadata": {
    "jupyter": {
     "source_hidden": true
    }
   },
   "outputs": [],
   "source": [
    "ml_nbp_mean['obs']"
   ]
  },
  {
   "cell_type": "code",
   "execution_count": null,
   "metadata": {},
   "outputs": [],
   "source": [
    "# Barrow\n",
    "for sim_name, data in bar_nbp.items():\n",
    "    co2amp = data.resample(time=\"Y\").max() - data.resample(time=\"Y\").min()\n",
    "    bar_nbp[sim_name] = co2amp\n",
    "    bar_nbp_mean[sim_name]= co2amp.sel(time=slice(\"2010\", \"2015\")).mean()\n",
    "    bar_nbp_std[sim_name] = co2amp.sel(time=slice(\"2010\", \"2015\")).std()\n",
    "    bar_pct_diff[sim_name] = (co2amp.sel(time=slice(\"2010\", \"2015\")).mean() - co2amp.sel(time=slice(\"1970\", \"1975\")).mean())/(co2amp.sel(time=slice(\"1970\", \"1975\")).mean())*100"
   ]
  },
  {
   "cell_type": "code",
   "execution_count": null,
   "metadata": {},
   "outputs": [],
   "source": [
    "# Niwot Ridge\n",
    "for sim_name, data in nwt_nbp.items():\n",
    "    co2amp = data.resample(time=\"Y\").max() - data.resample(time=\"Y\").min()\n",
    "    nwt_nbp[sim_name] = co2amp\n",
    "    nwt_nbp_mean[sim_name] = co2amp.sel(time=slice(\"2010\", \"2015\")).mean()\n",
    "    nwt_nbp_std[sim_name] = co2amp.sel(time=slice(\"2010\", \"2015\")).std()\n",
    "    nwt_pct_diff[sim_name] = (co2amp.sel(time=slice(\"2010\", \"2015\")).mean() - co2amp.sel(time=slice(\"1975\", \"1980\")).mean())/(co2amp.sel(time=slice(\"1975\", \"1980\")).mean())*100"
   ]
  },
  {
   "cell_type": "markdown",
   "metadata": {
    "jupyter": {
     "source_hidden": true
    }
   },
   "source": [
    "### Plotting mean amplitude averaged for 2000-2015"
   ]
  },
  {
   "cell_type": "code",
   "execution_count": null,
   "metadata": {
    "jupyter": {
     "source_hidden": true
    }
   },
   "outputs": [],
   "source": [
    "#quick error check\n",
    "plt.figure(figsize=(10,3))\n",
    "plt.bar(*zip(*bar_nbp_mean.items()))\n",
    "plt.show()"
   ]
  },
  {
   "cell_type": "markdown",
   "metadata": {},
   "source": [
    "### Calculating observational amplitude time series and 2000-2015 mean and error for each location"
   ]
  },
  {
   "cell_type": "code",
   "execution_count": null,
   "metadata": {},
   "outputs": [],
   "source": [
    "mllate = x.sel(name=(\"Mauna Loa\"), year=slice(\"2010\", \"2015\")).mean()\n",
    "mlstd = x.sel(name=(\"Mauna Loa\"), year=slice(\"2010\", \"2015\")).std()\n",
    "mlearly = x.sel(name=(\"Mauna Loa\"),year=slice(\"1970\", \"1975\")).mean()\n",
    "mlpctdiff = (mllate-mlearly)/mlearly*100\n",
    "\n",
    "barlate = x.sel(name=(\"Barrow\"), year=slice(\"2010\", \"2015\")).mean()\n",
    "barstd = x.sel(name=(\"Barrow\"), year=slice(\"2010\", \"2015\")).std()\n",
    "barearly = x.sel(name=(\"Barrow\"),year=slice(\"1970\", \"1975\")).mean()\n",
    "barpctdiff = (barlate-barearly)/barearly*100\n",
    "\n",
    "nwtlate = x.sel(name=(\"Niwot Ridge\"), year=slice(\"2010\", \"2015\")).mean()\n",
    "nwtstd = x.sel(name=(\"Niwot Ridge\"), year=slice(\"2010\", \"2015\")).std()\n",
    "nwtearly = x.sel(name=(\"Niwot Ridge\"),year=slice(\"1975\", \"1980\")).mean()\n",
    "nwtpctdiff = (nwtlate-nwtearly)/nwtearly*100"
   ]
  },
  {
   "cell_type": "markdown",
   "metadata": {},
   "source": [
    "### Adding observations to CMIP6 dictionary"
   ]
  },
  {
   "cell_type": "code",
   "execution_count": null,
   "metadata": {},
   "outputs": [],
   "source": [
    "ml_nbp_mean['obs'] = mllate.to_array\n",
    "ml_nbp_std['obs'] = mlstd.to_array\n",
    "ml_pct_diff['obs'] = mlpctdiff.to_array"
   ]
  },
  {
   "cell_type": "markdown",
   "metadata": {},
   "source": [
    "### Plotting amplitude vs change in amplitude at each site\n",
    "Note: observations cause plotting error"
   ]
  },
  {
   "cell_type": "code",
   "execution_count": null,
   "metadata": {},
   "outputs": [],
   "source": [
    "# Note: error related to plotting obs value\n",
    "fig, ax = plt.subplots()\n",
    "for k in ml_nbp_mean.keys():\n",
    "    ax.plot(ml_nbp_mean[k], ml_pct_diff[k], marker='o')\n",
    "ax.set_ylabel(\"% Change in 2010-2015 from 1960-1965\")\n",
    "ax.set_xlabel(\"2010-2015 Amplitude\")\n",
    "ax.legend(ml_nbp_mean.keys())\n",
    "plt.title('Mauna Loa')\n",
    "\n",
    "#plt.savefig('CMIP6_MLO.pdf')"
   ]
  },
  {
   "cell_type": "code",
   "execution_count": null,
   "metadata": {},
   "outputs": [],
   "source": [
    "fig, ax = plt.subplots()\n",
    "for k in bar_nbp_mean.keys():\n",
    "    ax.plot(bar_nbp_mean[k], bar_pct_diff[k], marker='o')\n",
    "ax.set_ylabel(\"% Change in 2010-2015 from 1960-1965\")\n",
    "ax.set_xlabel(\"2010-2015 Amplitude\")  \n",
    "ax.legend(bar_nbp_mean.keys())\n",
    "plt.title('Barrow')\n",
    "\n",
    "#plt.savefig('CMIP6_BRW.pdf')"
   ]
  },
  {
   "cell_type": "code",
   "execution_count": null,
   "metadata": {},
   "outputs": [],
   "source": [
    "fig, ax = plt.subplots()\n",
    "for k in nwt_nbp_mean.keys():\n",
    "    ax.plot(nwt_nbp_mean[k], nwt_pct_diff[k], marker='o')\n",
    "ax.set_ylabel(\"% Change in 2010-2015 from 1960-1965\")\n",
    "ax.set_xlabel(\"2010-2015 Amplitude\")  \n",
    "ax.legend(nwt_nbp_mean.keys())\n",
    "plt.title('Niwot Ridge')\n",
    "\n",
    "#plt.savefig('CMIP6_NWT.pdf')"
   ]
  },
  {
   "cell_type": "code",
   "execution_count": null,
   "metadata": {},
   "outputs": [],
   "source": [
    "#This also works for a quick look, but all markers are the same color\n",
    "fig, ax = plt.subplots()\n",
    "ax.scatter(ml_nbp_mean.values(), ml_pct_diff.values(), marker = 'o')\n",
    "ax.set_ylabel(\"Percent Change from 1960-1965\")\n",
    "ax.set_xlabel(\"2010-2015 Amplitude\")"
   ]
  },
  {
   "cell_type": "code",
   "execution_count": null,
   "metadata": {},
   "outputs": [],
   "source": []
  },
  {
   "cell_type": "code",
   "execution_count": null,
   "metadata": {},
   "outputs": [],
   "source": []
  },
  {
   "cell_type": "code",
   "execution_count": null,
   "metadata": {},
   "outputs": [],
   "source": []
  }
 ],
 "metadata": {
  "kernelspec": {
   "display_name": "CMIP6 2019.10",
   "language": "python",
   "name": "cmip6-201910"
  },
  "language_info": {
   "codemirror_mode": {
    "name": "ipython",
    "version": 3
   },
   "file_extension": ".py",
   "mimetype": "text/x-python",
   "name": "python",
   "nbconvert_exporter": "python",
   "pygments_lexer": "ipython3",
   "version": "3.7.8"
  }
 },
 "nbformat": 4,
 "nbformat_minor": 4
}
