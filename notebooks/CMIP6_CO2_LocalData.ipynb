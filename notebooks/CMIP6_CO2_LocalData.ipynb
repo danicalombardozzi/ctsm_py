{
 "cells": [
  {
   "cell_type": "code",
   "execution_count": 1,
   "metadata": {},
   "outputs": [],
   "source": [
    "import xarray as xr\n",
    "import numpy as np\n",
    "import matplotlib.pyplot as plt\n",
    "import esmlab\n",
    "import pandas as pd\n",
    "import warnings\n",
    "warnings.filterwarnings(\"ignore\")"
   ]
  },
  {
   "cell_type": "markdown",
   "metadata": {},
   "source": [
    "### Reading in Data"
   ]
  },
  {
   "cell_type": "code",
   "execution_count": 2,
   "metadata": {},
   "outputs": [],
   "source": [
    "dir = '/glade/p/cesm/lmwg_dev/dll/CMIP6_CO2/CatCO2data/'\n",
    "#note: 'CNRM-ESM2-1' uses r1k1p1f2 -- does this mean it's different in some way?\n",
    "\n",
    "BCC_CSM2 = xr.open_dataset(dir + \"co2_Amon_BCC-CSM2-MR_historical_r1i1p1f1_gn_185001-201412.nc\")\n",
    "BCC_ESM1 = xr.open_dataset(dir + \"co2_Amon_BCC-ESM1_historical_r1i1p1f1_gn_185001-201412.nc\")\n",
    "CNRM     = xr.open_dataset(dir + \"co2_Amon_CNRM-ESM2-1_historical_r1i1p1f2_gr_185001-201412.nc\")\n",
    "GFDL     = xr.open_dataset(dir + \"co2_Amon_GFDL-ESM4_historical_r1i1p1f1_gr1_185001-201412.nc\")\n",
    "MRI      = xr.open_dataset(dir + \"co2_Amon_MRI-ESM2-0_historical_r1i1p1f1_gn_185001-201412.nc\")\n",
    "NorESM   = xr.open_dataset(dir + \"co2_Amon_NorESM2-MM_historical_r1i1p1f1_gn_185001-201412.nc\")\n",
    "#CESM     = xr.open_dataset(dir + \"co2_Amon_CESM2_historical_r1i1p1f1_gn_185001-201412.nc\")\n",
    "CESM     = xr.open_dataset(dir + \"co2_Amon_CESM2_esm-hist_r1i1p1f1_gn_185001-201412.nc\")\n"
   ]
  },
  {
   "cell_type": "markdown",
   "metadata": {},
   "source": [
    "### Updating coordinates so math functions work properly"
   ]
  },
  {
   "cell_type": "code",
   "execution_count": 3,
   "metadata": {},
   "outputs": [],
   "source": [
    "#coordinates are already properly set for CNRM\n",
    "#BCC_CSM2 = BCC_CSM2.set_coords(['time_bnds', 'lat_bnds', 'lon_bnds'])\n",
    "BCC_ESM1 = BCC_ESM1.set_coords(['time_bnds', 'lat_bnds', 'lon_bnds'])\n",
    "#CNRM     = CNRM.set_coords(['time_bnds', 'lat_bnds', 'lon_bnds'])\n",
    "GFDL     = GFDL.set_coords(['time_bnds', 'lat_bnds', 'lon_bnds'])\n",
    "MRI      = MRI.set_coords(['time_bnds', 'lat_bnds', 'lon_bnds'])\n",
    "NorESM   = NorESM.set_coords(['time_bnds', 'lat_bnds', 'lon_bnds'])\n",
    "CESM     = CESM.set_coords(['time_bnds', 'lat_bnds', 'lon_bnds'])"
   ]
  },
  {
   "cell_type": "code",
   "execution_count": 4,
   "metadata": {
    "jupyter": {
     "source_hidden": true
    }
   },
   "outputs": [],
   "source": [
    "#CESM"
   ]
  },
  {
   "cell_type": "markdown",
   "metadata": {},
   "source": [
    "### Setting up dictionary for easier manipulation"
   ]
  },
  {
   "cell_type": "code",
   "execution_count": 4,
   "metadata": {},
   "outputs": [],
   "source": [
    "co2_ds = dict()\n",
    "#co2_ds['BCC_CSM2']  = BCC_CSM2.co2\n",
    "co2_ds['BCC_ESM1']  = BCC_ESM1.co2\n",
    "co2_ds['CNRM']      = CNRM.co2\n",
    "co2_ds['GFDL']      = GFDL.co2\n",
    "co2_ds['MRI']       = MRI.co2\n",
    "co2_ds['NorESM']    = NorESM.co2\n",
    "co2_ds['CESM']      = CESM.co2"
   ]
  },
  {
   "cell_type": "code",
   "execution_count": 33,
   "metadata": {
    "collapsed": true,
    "jupyter": {
     "outputs_hidden": true,
     "source_hidden": true
    }
   },
   "outputs": [
    {
     "data": {
      "text/plain": [
       "{'BCC_CSM2': <xarray.DataArray 'co2' (time: 1980, plev: 19, lat: 160, lon: 320)>\n",
       " [1926144000 values with dtype=float32]\n",
       " Coordinates:\n",
       "   * time     (time) object 1850-01-16 12:00:00 ... 2014-12-16 12:00:00\n",
       "   * plev     (plev) float64 1e+05 9.25e+04 8.5e+04 7e+04 ... 1e+03 500.0 100.0\n",
       "   * lat      (lat) float64 -89.14 -88.03 -86.91 -85.79 ... 86.91 88.03 89.14\n",
       "   * lon      (lon) float64 0.0 1.125 2.25 3.375 4.5 ... 355.5 356.6 357.8 358.9\n",
       " Attributes:\n",
       "     standard_name:  mole_fraction_of_carbon_dioxide_in_air\n",
       "     long_name:      Mole Fraction of CO2\n",
       "     comment:        Mole fraction is used in the construction mole_fraction_o...\n",
       "     units:          mol mol-1\n",
       "     original_name:  CO2VMR\n",
       "     cell_methods:   time: mean (interval: 5 minutes)\n",
       "     cell_measures:  area: areacella,\n",
       " 'BCC_ESM1': <xarray.DataArray 'co2' (time: 1980, plev: 19, lat: 64, lon: 128)>\n",
       " [308183040 values with dtype=float32]\n",
       " Coordinates:\n",
       "   * time     (time) object 1850-01-16 12:00:00 ... 2014-12-16 12:00:00\n",
       "   * plev     (plev) float64 1e+05 9.25e+04 8.5e+04 7e+04 ... 1e+03 500.0 100.0\n",
       "   * lat      (lat) float64 -87.86 -85.1 -82.31 -79.53 ... 79.53 82.31 85.1 87.86\n",
       "   * lon      (lon) float64 0.0 2.812 5.625 8.438 ... 348.8 351.6 354.4 357.2\n",
       " Attributes:\n",
       "     standard_name:  mole_fraction_of_carbon_dioxide_in_air\n",
       "     long_name:      Mole Fraction of CO2\n",
       "     comment:        Mole fraction is used in the construction mole_fraction_o...\n",
       "     units:          mol mol-1\n",
       "     original_name:  CO2VMR\n",
       "     cell_methods:   time: mean (interval: 20 minutes)\n",
       "     cell_measures:  area: areacella,\n",
       " 'CNRM': <xarray.DataArray 'co2' (time: 1980, plev: 19, lat: 128, lon: 256)>\n",
       " [1232732160 values with dtype=float32]\n",
       " Coordinates:\n",
       "   * lat      (lat) float64 -88.93 -87.54 -86.14 -84.74 ... 86.14 87.54 88.93\n",
       "   * lon      (lon) float64 0.0 1.406 2.812 4.219 ... 354.4 355.8 357.2 358.6\n",
       "   * plev     (plev) float32 100000.0 92500.0 85000.0 ... 1000.0 500.0 100.0\n",
       "   * time     (time) datetime64[ns] 1850-01-16T12:00:00 ... 2014-12-16T12:00:00\n",
       " Attributes:\n",
       "     long_name:           Mole Fraction of CO2\n",
       "     units:               mol mol-1\n",
       "     online_operation:    average\n",
       "     cell_methods:        time: mean\n",
       "     interval_operation:  900 s\n",
       "     interval_write:      1 month\n",
       "     standard_name:       mole_fraction_of_carbon_dioxide_in_air\n",
       "     description:         Mole Fraction of CO2\n",
       "     history:             none\n",
       "     cell_measures:       area: areacella,\n",
       " 'GFDL': <xarray.DataArray 'co2' (time: 1980, plev: 19, lat: 180, lon: 288)>\n",
       " [1950220800 values with dtype=float32]\n",
       " Coordinates:\n",
       "   * lat      (lat) float64 -89.5 -88.5 -87.5 -86.5 -85.5 ... 86.5 87.5 88.5 89.5\n",
       "   * lon      (lon) float64 0.625 1.875 3.125 4.375 ... 355.6 356.9 358.1 359.4\n",
       "   * plev     (plev) float64 1e+05 9.25e+04 8.5e+04 7e+04 ... 1e+03 500.0 100.0\n",
       "   * time     (time) object 1850-01-16 12:00:00 ... 2014-12-16 12:00:00\n",
       " Attributes:\n",
       "     long_name:      Mole Fraction of CO2\n",
       "     units:          mol mol-1\n",
       "     cell_methods:   time: mean\n",
       "     cell_measures:  area: areacella\n",
       "     standard_name:  mole_fraction_of_carbon_dioxide_in_air\n",
       "     interp_method:  conserve_order2\n",
       "     original_name:  co2,\n",
       " 'MRI': <xarray.DataArray 'co2' (time: 1980, plev: 19, lat: 64, lon: 128)>\n",
       " [308183040 values with dtype=float32]\n",
       " Coordinates:\n",
       "   * time     (time) datetime64[ns] 1850-01-16T12:00:00 ... 2014-12-16T12:00:00\n",
       "   * plev     (plev) float64 1e+05 9.25e+04 8.5e+04 7e+04 ... 1e+03 500.0 100.0\n",
       "   * lat      (lat) float64 -87.86 -85.1 -82.31 -79.53 ... 79.53 82.31 85.1 87.86\n",
       "   * lon      (lon) float64 0.0 2.812 5.625 8.438 ... 348.8 351.6 354.4 357.2\n",
       " Attributes:\n",
       "     standard_name:  mole_fraction_of_carbon_dioxide_in_air\n",
       "     long_name:      Mole Fraction of CO2\n",
       "     comment:        Mole fraction is used in the construction mole_fraction_o...\n",
       "     units:          mol mol-1\n",
       "     original_name:  CO2\n",
       "     cell_methods:   time: mean\n",
       "     cell_measures:  area: areacella\n",
       "     history:        2019-03-01T08:57:54Z altered by CMOR: replaced missing va...,\n",
       " 'NorESM': <xarray.DataArray 'co2' (time: 1980, plev: 19, lat: 192, lon: 288)>\n",
       " [2080235520 values with dtype=float32]\n",
       " Coordinates:\n",
       "   * time     (time) object 1850-01-16 12:00:00 ... 2014-12-16 12:00:00\n",
       "   * plev     (plev) float64 1e+05 9.25e+04 8.5e+04 7e+04 ... 1e+03 500.0 100.0\n",
       "   * lat      (lat) float64 -90.0 -89.06 -88.12 -87.17 ... 87.17 88.12 89.06 90.0\n",
       "   * lon      (lon) float64 0.0 1.25 2.5 3.75 5.0 ... 355.0 356.2 357.5 358.8\n",
       " Attributes:\n",
       "     standard_name:   mole_fraction_of_carbon_dioxide_in_air\n",
       "     long_name:       Mole Fraction of CO2\n",
       "     comment:         Mole fraction is used in the construction mole_fraction_...\n",
       "     units:           mol mol-1\n",
       "     original_name:   CO2\n",
       "     original_units:  1e-6\n",
       "     history:         2019-11-25T21:52:36Z altered by CMOR: Converted units fr...\n",
       "     cell_methods:    time: mean\n",
       "     cell_measures:   area: areacella,\n",
       " 'CESM': <xarray.DataArray 'co2' (time: 1980, plev: 19, lat: 192, lon: 288)>\n",
       " [2080235520 values with dtype=float32]\n",
       " Coordinates:\n",
       "   * lat      (lat) float64 -90.0 -89.06 -88.12 -87.17 ... 87.17 88.12 89.06 90.0\n",
       "   * lon      (lon) float64 0.0 1.25 2.5 3.75 5.0 ... 355.0 356.2 357.5 358.8\n",
       "   * plev     (plev) float64 1e+05 9.25e+04 8.5e+04 7e+04 ... 1e+03 500.0 100.0\n",
       "   * time     (time) object 1850-01-15 12:00:00 ... 2014-12-15 12:00:00\n",
       " Attributes:\n",
       "     cell_measures:  area: areacella\n",
       "     cell_methods:   time: mean\n",
       "     comment:        vinth2p((CO2*28.966/44.0),hyam, hybm, plev, PS, P0)\n",
       "     description:    Mole fraction is used in the construction mole_fraction_o...\n",
       "     frequency:      mon\n",
       "     id:             co2\n",
       "     long_name:      Mole Fraction of CO2\n",
       "     mipTable:       Amon\n",
       "     out_name:       co2\n",
       "     prov:           Amon ((isd.003))\n",
       "     realm:          atmos\n",
       "     standard_name:  mole_fraction_of_carbon_dioxide_in_air\n",
       "     time:           time\n",
       "     time_label:     time-mean\n",
       "     time_title:     Temporal mean\n",
       "     title:          Mole Fraction of CO2\n",
       "     type:           real\n",
       "     units:          mol mol-1\n",
       "     variable_id:    co2}"
      ]
     },
     "execution_count": 33,
     "metadata": {},
     "output_type": "execute_result"
    }
   ],
   "source": [
    "co2_ds"
   ]
  },
  {
   "cell_type": "code",
   "execution_count": 5,
   "metadata": {},
   "outputs": [],
   "source": [
    "#converting to ppm\n",
    "convert = 10.0**6"
   ]
  },
  {
   "cell_type": "markdown",
   "metadata": {
    "jupyter": {
     "source_hidden": true
    }
   },
   "source": [
    "### Setting up arrays to subset points"
   ]
  },
  {
   "cell_type": "code",
   "execution_count": 6,
   "metadata": {
    "jupyter": {
     "source_hidden": true
    }
   },
   "outputs": [],
   "source": [
    "#Locations: Mauna Loa, Barrow, Niwot\n",
    "lats=np.array([71.3,19.5,40.1])\n",
    "lons=np.array([360-156.61,360-155.6,360-105.6])\n",
    "pres=np.array([68000, 99800, 70000])"
   ]
  },
  {
   "cell_type": "markdown",
   "metadata": {
    "jupyter": {
     "source_hidden": true
    }
   },
   "source": [
    "### Testing model and location subsets to determine maximum CO2 concentrations "
   ]
  },
  {
   "cell_type": "code",
   "execution_count": 51,
   "metadata": {
    "collapsed": true,
    "jupyter": {
     "outputs_hidden": true,
     "source_hidden": true
    }
   },
   "outputs": [
    {
     "data": {
      "text/html": [
       "<div><svg style=\"position: absolute; width: 0; height: 0; overflow: hidden\">\n",
       "<defs>\n",
       "<symbol id=\"icon-database\" viewBox=\"0 0 32 32\">\n",
       "<path d=\"M16 0c-8.837 0-16 2.239-16 5v4c0 2.761 7.163 5 16 5s16-2.239 16-5v-4c0-2.761-7.163-5-16-5z\"></path>\n",
       "<path d=\"M16 17c-8.837 0-16-2.239-16-5v6c0 2.761 7.163 5 16 5s16-2.239 16-5v-6c0 2.761-7.163 5-16 5z\"></path>\n",
       "<path d=\"M16 26c-8.837 0-16-2.239-16-5v6c0 2.761 7.163 5 16 5s16-2.239 16-5v-6c0 2.761-7.163 5-16 5z\"></path>\n",
       "</symbol>\n",
       "<symbol id=\"icon-file-text2\" viewBox=\"0 0 32 32\">\n",
       "<path d=\"M28.681 7.159c-0.694-0.947-1.662-2.053-2.724-3.116s-2.169-2.030-3.116-2.724c-1.612-1.182-2.393-1.319-2.841-1.319h-15.5c-1.378 0-2.5 1.121-2.5 2.5v27c0 1.378 1.122 2.5 2.5 2.5h23c1.378 0 2.5-1.122 2.5-2.5v-19.5c0-0.448-0.137-1.23-1.319-2.841zM24.543 5.457c0.959 0.959 1.712 1.825 2.268 2.543h-4.811v-4.811c0.718 0.556 1.584 1.309 2.543 2.268zM28 29.5c0 0.271-0.229 0.5-0.5 0.5h-23c-0.271 0-0.5-0.229-0.5-0.5v-27c0-0.271 0.229-0.5 0.5-0.5 0 0 15.499-0 15.5 0v7c0 0.552 0.448 1 1 1h7v19.5z\"></path>\n",
       "<path d=\"M23 26h-14c-0.552 0-1-0.448-1-1s0.448-1 1-1h14c0.552 0 1 0.448 1 1s-0.448 1-1 1z\"></path>\n",
       "<path d=\"M23 22h-14c-0.552 0-1-0.448-1-1s0.448-1 1-1h14c0.552 0 1 0.448 1 1s-0.448 1-1 1z\"></path>\n",
       "<path d=\"M23 18h-14c-0.552 0-1-0.448-1-1s0.448-1 1-1h14c0.552 0 1 0.448 1 1s-0.448 1-1 1z\"></path>\n",
       "</symbol>\n",
       "</defs>\n",
       "</svg>\n",
       "<style>/* CSS stylesheet for displaying xarray objects in jupyterlab.\n",
       " *\n",
       " */\n",
       "\n",
       ":root {\n",
       "  --xr-font-color0: var(--jp-content-font-color0, rgba(0, 0, 0, 1));\n",
       "  --xr-font-color2: var(--jp-content-font-color2, rgba(0, 0, 0, 0.54));\n",
       "  --xr-font-color3: var(--jp-content-font-color3, rgba(0, 0, 0, 0.38));\n",
       "  --xr-border-color: var(--jp-border-color2, #e0e0e0);\n",
       "  --xr-disabled-color: var(--jp-layout-color3, #bdbdbd);\n",
       "  --xr-background-color: var(--jp-layout-color0, white);\n",
       "  --xr-background-color-row-even: var(--jp-layout-color1, white);\n",
       "  --xr-background-color-row-odd: var(--jp-layout-color2, #eeeeee);\n",
       "}\n",
       "\n",
       "html[theme=dark],\n",
       "body.vscode-dark {\n",
       "  --xr-font-color0: rgba(255, 255, 255, 1);\n",
       "  --xr-font-color2: rgba(255, 255, 255, 0.54);\n",
       "  --xr-font-color3: rgba(255, 255, 255, 0.38);\n",
       "  --xr-border-color: #1F1F1F;\n",
       "  --xr-disabled-color: #515151;\n",
       "  --xr-background-color: #111111;\n",
       "  --xr-background-color-row-even: #111111;\n",
       "  --xr-background-color-row-odd: #313131;\n",
       "}\n",
       "\n",
       ".xr-wrap {\n",
       "  display: block;\n",
       "  min-width: 300px;\n",
       "  max-width: 700px;\n",
       "}\n",
       "\n",
       ".xr-text-repr-fallback {\n",
       "  /* fallback to plain text repr when CSS is not injected (untrusted notebook) */\n",
       "  display: none;\n",
       "}\n",
       "\n",
       ".xr-header {\n",
       "  padding-top: 6px;\n",
       "  padding-bottom: 6px;\n",
       "  margin-bottom: 4px;\n",
       "  border-bottom: solid 1px var(--xr-border-color);\n",
       "}\n",
       "\n",
       ".xr-header > div,\n",
       ".xr-header > ul {\n",
       "  display: inline;\n",
       "  margin-top: 0;\n",
       "  margin-bottom: 0;\n",
       "}\n",
       "\n",
       ".xr-obj-type,\n",
       ".xr-array-name {\n",
       "  margin-left: 2px;\n",
       "  margin-right: 10px;\n",
       "}\n",
       "\n",
       ".xr-obj-type {\n",
       "  color: var(--xr-font-color2);\n",
       "}\n",
       "\n",
       ".xr-sections {\n",
       "  padding-left: 0 !important;\n",
       "  display: grid;\n",
       "  grid-template-columns: 150px auto auto 1fr 20px 20px;\n",
       "}\n",
       "\n",
       ".xr-section-item {\n",
       "  display: contents;\n",
       "}\n",
       "\n",
       ".xr-section-item input {\n",
       "  display: none;\n",
       "}\n",
       "\n",
       ".xr-section-item input + label {\n",
       "  color: var(--xr-disabled-color);\n",
       "}\n",
       "\n",
       ".xr-section-item input:enabled + label {\n",
       "  cursor: pointer;\n",
       "  color: var(--xr-font-color2);\n",
       "}\n",
       "\n",
       ".xr-section-item input:enabled + label:hover {\n",
       "  color: var(--xr-font-color0);\n",
       "}\n",
       "\n",
       ".xr-section-summary {\n",
       "  grid-column: 1;\n",
       "  color: var(--xr-font-color2);\n",
       "  font-weight: 500;\n",
       "}\n",
       "\n",
       ".xr-section-summary > span {\n",
       "  display: inline-block;\n",
       "  padding-left: 0.5em;\n",
       "}\n",
       "\n",
       ".xr-section-summary-in:disabled + label {\n",
       "  color: var(--xr-font-color2);\n",
       "}\n",
       "\n",
       ".xr-section-summary-in + label:before {\n",
       "  display: inline-block;\n",
       "  content: '►';\n",
       "  font-size: 11px;\n",
       "  width: 15px;\n",
       "  text-align: center;\n",
       "}\n",
       "\n",
       ".xr-section-summary-in:disabled + label:before {\n",
       "  color: var(--xr-disabled-color);\n",
       "}\n",
       "\n",
       ".xr-section-summary-in:checked + label:before {\n",
       "  content: '▼';\n",
       "}\n",
       "\n",
       ".xr-section-summary-in:checked + label > span {\n",
       "  display: none;\n",
       "}\n",
       "\n",
       ".xr-section-summary,\n",
       ".xr-section-inline-details {\n",
       "  padding-top: 4px;\n",
       "  padding-bottom: 4px;\n",
       "}\n",
       "\n",
       ".xr-section-inline-details {\n",
       "  grid-column: 2 / -1;\n",
       "}\n",
       "\n",
       ".xr-section-details {\n",
       "  display: none;\n",
       "  grid-column: 1 / -1;\n",
       "  margin-bottom: 5px;\n",
       "}\n",
       "\n",
       ".xr-section-summary-in:checked ~ .xr-section-details {\n",
       "  display: contents;\n",
       "}\n",
       "\n",
       ".xr-array-wrap {\n",
       "  grid-column: 1 / -1;\n",
       "  display: grid;\n",
       "  grid-template-columns: 20px auto;\n",
       "}\n",
       "\n",
       ".xr-array-wrap > label {\n",
       "  grid-column: 1;\n",
       "  vertical-align: top;\n",
       "}\n",
       "\n",
       ".xr-preview {\n",
       "  color: var(--xr-font-color3);\n",
       "}\n",
       "\n",
       ".xr-array-preview,\n",
       ".xr-array-data {\n",
       "  padding: 0 5px !important;\n",
       "  grid-column: 2;\n",
       "}\n",
       "\n",
       ".xr-array-data,\n",
       ".xr-array-in:checked ~ .xr-array-preview {\n",
       "  display: none;\n",
       "}\n",
       "\n",
       ".xr-array-in:checked ~ .xr-array-data,\n",
       ".xr-array-preview {\n",
       "  display: inline-block;\n",
       "}\n",
       "\n",
       ".xr-dim-list {\n",
       "  display: inline-block !important;\n",
       "  list-style: none;\n",
       "  padding: 0 !important;\n",
       "  margin: 0;\n",
       "}\n",
       "\n",
       ".xr-dim-list li {\n",
       "  display: inline-block;\n",
       "  padding: 0;\n",
       "  margin: 0;\n",
       "}\n",
       "\n",
       ".xr-dim-list:before {\n",
       "  content: '(';\n",
       "}\n",
       "\n",
       ".xr-dim-list:after {\n",
       "  content: ')';\n",
       "}\n",
       "\n",
       ".xr-dim-list li:not(:last-child):after {\n",
       "  content: ',';\n",
       "  padding-right: 5px;\n",
       "}\n",
       "\n",
       ".xr-has-index {\n",
       "  font-weight: bold;\n",
       "}\n",
       "\n",
       ".xr-var-list,\n",
       ".xr-var-item {\n",
       "  display: contents;\n",
       "}\n",
       "\n",
       ".xr-var-item > div,\n",
       ".xr-var-item label,\n",
       ".xr-var-item > .xr-var-name span {\n",
       "  background-color: var(--xr-background-color-row-even);\n",
       "  margin-bottom: 0;\n",
       "}\n",
       "\n",
       ".xr-var-item > .xr-var-name:hover span {\n",
       "  padding-right: 5px;\n",
       "}\n",
       "\n",
       ".xr-var-list > li:nth-child(odd) > div,\n",
       ".xr-var-list > li:nth-child(odd) > label,\n",
       ".xr-var-list > li:nth-child(odd) > .xr-var-name span {\n",
       "  background-color: var(--xr-background-color-row-odd);\n",
       "}\n",
       "\n",
       ".xr-var-name {\n",
       "  grid-column: 1;\n",
       "}\n",
       "\n",
       ".xr-var-dims {\n",
       "  grid-column: 2;\n",
       "}\n",
       "\n",
       ".xr-var-dtype {\n",
       "  grid-column: 3;\n",
       "  text-align: right;\n",
       "  color: var(--xr-font-color2);\n",
       "}\n",
       "\n",
       ".xr-var-preview {\n",
       "  grid-column: 4;\n",
       "}\n",
       "\n",
       ".xr-var-name,\n",
       ".xr-var-dims,\n",
       ".xr-var-dtype,\n",
       ".xr-preview,\n",
       ".xr-attrs dt {\n",
       "  white-space: nowrap;\n",
       "  overflow: hidden;\n",
       "  text-overflow: ellipsis;\n",
       "  padding-right: 10px;\n",
       "}\n",
       "\n",
       ".xr-var-name:hover,\n",
       ".xr-var-dims:hover,\n",
       ".xr-var-dtype:hover,\n",
       ".xr-attrs dt:hover {\n",
       "  overflow: visible;\n",
       "  width: auto;\n",
       "  z-index: 1;\n",
       "}\n",
       "\n",
       ".xr-var-attrs,\n",
       ".xr-var-data {\n",
       "  display: none;\n",
       "  background-color: var(--xr-background-color) !important;\n",
       "  padding-bottom: 5px !important;\n",
       "}\n",
       "\n",
       ".xr-var-attrs-in:checked ~ .xr-var-attrs,\n",
       ".xr-var-data-in:checked ~ .xr-var-data {\n",
       "  display: block;\n",
       "}\n",
       "\n",
       ".xr-var-data > table {\n",
       "  float: right;\n",
       "}\n",
       "\n",
       ".xr-var-name span,\n",
       ".xr-var-data,\n",
       ".xr-attrs {\n",
       "  padding-left: 25px !important;\n",
       "}\n",
       "\n",
       ".xr-attrs,\n",
       ".xr-var-attrs,\n",
       ".xr-var-data {\n",
       "  grid-column: 1 / -1;\n",
       "}\n",
       "\n",
       "dl.xr-attrs {\n",
       "  padding: 0;\n",
       "  margin: 0;\n",
       "  display: grid;\n",
       "  grid-template-columns: 125px auto;\n",
       "}\n",
       "\n",
       ".xr-attrs dt, dd {\n",
       "  padding: 0;\n",
       "  margin: 0;\n",
       "  float: left;\n",
       "  padding-right: 10px;\n",
       "  width: auto;\n",
       "}\n",
       "\n",
       ".xr-attrs dt {\n",
       "  font-weight: normal;\n",
       "  grid-column: 1;\n",
       "}\n",
       "\n",
       ".xr-attrs dt:hover span {\n",
       "  display: inline-block;\n",
       "  background: var(--xr-background-color);\n",
       "  padding-right: 10px;\n",
       "}\n",
       "\n",
       ".xr-attrs dd {\n",
       "  grid-column: 2;\n",
       "  white-space: pre-wrap;\n",
       "  word-break: break-all;\n",
       "}\n",
       "\n",
       ".xr-icon-database,\n",
       ".xr-icon-file-text2 {\n",
       "  display: inline-block;\n",
       "  vertical-align: middle;\n",
       "  width: 1em;\n",
       "  height: 1.5em !important;\n",
       "  stroke-width: 0;\n",
       "  stroke: currentColor;\n",
       "  fill: currentColor;\n",
       "}\n",
       "</style><pre class='xr-text-repr-fallback'>&lt;xarray.DataArray &#x27;co2&#x27; ()&gt;\n",
       "array(441.4815979)\n",
       "Coordinates:\n",
       "    lat      float64 71.15\n",
       "    lon      float64 203.8\n",
       "    plev     float64 7e+04\n",
       "Attributes:\n",
       "    cell_measures:  area: areacella\n",
       "    cell_methods:   time: mean\n",
       "    comment:        vinth2p((CO2*28.966/44.0),hyam, hybm, plev, PS, P0)\n",
       "    description:    Mole fraction is used in the construction mole_fraction_o...\n",
       "    frequency:      mon\n",
       "    id:             co2\n",
       "    long_name:      Mole Fraction of CO2\n",
       "    mipTable:       Amon\n",
       "    out_name:       co2\n",
       "    prov:           Amon ((isd.003))\n",
       "    realm:          atmos\n",
       "    standard_name:  mole_fraction_of_carbon_dioxide_in_air\n",
       "    time:           time\n",
       "    time_label:     time-mean\n",
       "    time_title:     Temporal mean\n",
       "    title:          Mole Fraction of CO2\n",
       "    type:           real\n",
       "    units:          mol mol-1\n",
       "    variable_id:    co2</pre><div class='xr-wrap' hidden><div class='xr-header'><div class='xr-obj-type'>xarray.DataArray</div><div class='xr-array-name'>'co2'</div></div><ul class='xr-sections'><li class='xr-section-item'><div class='xr-array-wrap'><input id='section-c3df6b56-516b-4b9d-9f54-8b564a95528d' class='xr-array-in' type='checkbox' checked><label for='section-c3df6b56-516b-4b9d-9f54-8b564a95528d' title='Show/hide data repr'><svg class='icon xr-icon-database'><use xlink:href='#icon-database'></use></svg></label><div class='xr-array-preview xr-preview'><span>441.5</span></div><div class='xr-array-data'><pre>array(441.4815979)</pre></div></div></li><li class='xr-section-item'><input id='section-59827626-a08a-4e5d-b241-22aced6c9a4e' class='xr-section-summary-in' type='checkbox'  checked><label for='section-59827626-a08a-4e5d-b241-22aced6c9a4e' class='xr-section-summary' >Coordinates: <span>(3)</span></label><div class='xr-section-inline-details'></div><div class='xr-section-details'><ul class='xr-var-list'><li class='xr-var-item'><div class='xr-var-name'><span>lat</span></div><div class='xr-var-dims'>()</div><div class='xr-var-dtype'>float64</div><div class='xr-var-preview xr-preview'>71.15</div><input id='attrs-654ccdf7-5512-4c35-9ff6-da3fd0beb5f9' class='xr-var-attrs-in' type='checkbox' ><label for='attrs-654ccdf7-5512-4c35-9ff6-da3fd0beb5f9' title='Show/Hide attributes'><svg class='icon xr-icon-file-text2'><use xlink:href='#icon-file-text2'></use></svg></label><input id='data-280a8003-8adc-47f0-acde-ab1b04185837' class='xr-var-data-in' type='checkbox'><label for='data-280a8003-8adc-47f0-acde-ab1b04185837' title='Show/Hide data repr'><svg class='icon xr-icon-database'><use xlink:href='#icon-database'></use></svg></label><div class='xr-var-attrs'><dl class='xr-attrs'><dt><span>axis :</span></dt><dd>Y</dd><dt><span>bounds :</span></dt><dd>lat_bnds</dd><dt><span>standard_name :</span></dt><dd>latitude</dd><dt><span>title :</span></dt><dd>Latitude</dd><dt><span>type :</span></dt><dd>double</dd><dt><span>units :</span></dt><dd>degrees_north</dd><dt><span>valid_max :</span></dt><dd>90.0</dd><dt><span>valid_min :</span></dt><dd>-90.0</dd></dl></div><div class='xr-var-data'><pre>array(71.15183246)</pre></div></li><li class='xr-var-item'><div class='xr-var-name'><span>lon</span></div><div class='xr-var-dims'>()</div><div class='xr-var-dtype'>float64</div><div class='xr-var-preview xr-preview'>203.8</div><input id='attrs-23affbc7-f1eb-471b-ad9e-fb9869f6d044' class='xr-var-attrs-in' type='checkbox' ><label for='attrs-23affbc7-f1eb-471b-ad9e-fb9869f6d044' title='Show/Hide attributes'><svg class='icon xr-icon-file-text2'><use xlink:href='#icon-file-text2'></use></svg></label><input id='data-1e12ed57-0d47-4d11-b1e2-4dbae0ec9ef6' class='xr-var-data-in' type='checkbox'><label for='data-1e12ed57-0d47-4d11-b1e2-4dbae0ec9ef6' title='Show/Hide data repr'><svg class='icon xr-icon-database'><use xlink:href='#icon-database'></use></svg></label><div class='xr-var-attrs'><dl class='xr-attrs'><dt><span>axis :</span></dt><dd>X</dd><dt><span>bounds :</span></dt><dd>lon_bnds</dd><dt><span>standard_name :</span></dt><dd>longitude</dd><dt><span>title :</span></dt><dd>Longitude</dd><dt><span>type :</span></dt><dd>double</dd><dt><span>units :</span></dt><dd>degrees_east</dd><dt><span>valid_max :</span></dt><dd>360.0</dd><dt><span>valid_min :</span></dt><dd>0.0</dd></dl></div><div class='xr-var-data'><pre>array(203.75)</pre></div></li><li class='xr-var-item'><div class='xr-var-name'><span>plev</span></div><div class='xr-var-dims'>()</div><div class='xr-var-dtype'>float64</div><div class='xr-var-preview xr-preview'>7e+04</div><input id='attrs-d97df39a-7388-4960-8f7f-607facc519d6' class='xr-var-attrs-in' type='checkbox' ><label for='attrs-d97df39a-7388-4960-8f7f-607facc519d6' title='Show/Hide attributes'><svg class='icon xr-icon-file-text2'><use xlink:href='#icon-file-text2'></use></svg></label><input id='data-cbac44ae-9227-4d96-bbd4-278fd51ae019' class='xr-var-data-in' type='checkbox'><label for='data-cbac44ae-9227-4d96-bbd4-278fd51ae019' title='Show/Hide data repr'><svg class='icon xr-icon-database'><use xlink:href='#icon-database'></use></svg></label><div class='xr-var-attrs'><dl class='xr-attrs'><dt><span>axis :</span></dt><dd>Z</dd><dt><span>positive :</span></dt><dd>down</dd><dt><span>requested :</span></dt><dd>100000. 92500. 85000. 70000. 60000. 50000. 40000. 30000. 25000. 20000. 15000. 10000. 7000. 5000. 3000. 2000. 1000. 500. 100.</dd><dt><span>standard_name :</span></dt><dd>air_pressure</dd><dt><span>title :</span></dt><dd>pressure</dd><dt><span>type :</span></dt><dd>double</dd><dt><span>units :</span></dt><dd>Pa</dd></dl></div><div class='xr-var-data'><pre>array(70000.)</pre></div></li></ul></div></li><li class='xr-section-item'><input id='section-74e07808-5aee-4f7e-9daa-7c1402d2e7d0' class='xr-section-summary-in' type='checkbox'  ><label for='section-74e07808-5aee-4f7e-9daa-7c1402d2e7d0' class='xr-section-summary' >Attributes: <span>(19)</span></label><div class='xr-section-inline-details'></div><div class='xr-section-details'><dl class='xr-attrs'><dt><span>cell_measures :</span></dt><dd>area: areacella</dd><dt><span>cell_methods :</span></dt><dd>time: mean</dd><dt><span>comment :</span></dt><dd>vinth2p((CO2*28.966/44.0),hyam, hybm, plev, PS, P0)</dd><dt><span>description :</span></dt><dd>Mole fraction is used in the construction mole_fraction_of_X_in_Y, where X is a material constituent of Y.</dd><dt><span>frequency :</span></dt><dd>mon</dd><dt><span>id :</span></dt><dd>co2</dd><dt><span>long_name :</span></dt><dd>Mole Fraction of CO2</dd><dt><span>mipTable :</span></dt><dd>Amon</dd><dt><span>out_name :</span></dt><dd>co2</dd><dt><span>prov :</span></dt><dd>Amon ((isd.003))</dd><dt><span>realm :</span></dt><dd>atmos</dd><dt><span>standard_name :</span></dt><dd>mole_fraction_of_carbon_dioxide_in_air</dd><dt><span>time :</span></dt><dd>time</dd><dt><span>time_label :</span></dt><dd>time-mean</dd><dt><span>time_title :</span></dt><dd>Temporal mean</dd><dt><span>title :</span></dt><dd>Mole Fraction of CO2</dd><dt><span>type :</span></dt><dd>real</dd><dt><span>units :</span></dt><dd>mol mol-1</dd><dt><span>variable_id :</span></dt><dd>co2</dd></dl></div></li></ul></div></div>"
      ],
      "text/plain": [
       "<xarray.DataArray 'co2' ()>\n",
       "array(441.4815979)\n",
       "Coordinates:\n",
       "    lat      float64 71.15\n",
       "    lon      float64 203.8\n",
       "    plev     float64 7e+04\n",
       "Attributes:\n",
       "    cell_measures:  area: areacella\n",
       "    cell_methods:   time: mean\n",
       "    comment:        vinth2p((CO2*28.966/44.0),hyam, hybm, plev, PS, P0)\n",
       "    description:    Mole fraction is used in the construction mole_fraction_o...\n",
       "    frequency:      mon\n",
       "    id:             co2\n",
       "    long_name:      Mole Fraction of CO2\n",
       "    mipTable:       Amon\n",
       "    out_name:       co2\n",
       "    prov:           Amon ((isd.003))\n",
       "    realm:          atmos\n",
       "    standard_name:  mole_fraction_of_carbon_dioxide_in_air\n",
       "    time:           time\n",
       "    time_label:     time-mean\n",
       "    time_title:     Temporal mean\n",
       "    title:          Mole Fraction of CO2\n",
       "    type:           real\n",
       "    units:          mol mol-1\n",
       "    variable_id:    co2"
      ]
     },
     "execution_count": 51,
     "metadata": {},
     "output_type": "execute_result"
    }
   ],
   "source": [
    "#Locations: Mauna Loa=0, Barrow=1, Niwot=2\n",
    "x=0\n",
    "test = []\n",
    "test = co2_ds['CESM'].sel(lat=lats[x],lon=lons[x], plev=pres[x], method='nearest')\n",
    "#test = co2_ds['CESM'].sel(lat=slice(30,90))\n",
    "test = test.isel(time=slice(-60, None))*convert\n",
    "#test = test.isel(time=slice(-60, None), plev=1)*convert\n",
    "test.max()"
   ]
  },
  {
   "cell_type": "markdown",
   "metadata": {},
   "source": [
    "### Observational Data"
   ]
  },
  {
   "cell_type": "code",
   "execution_count": 6,
   "metadata": {},
   "outputs": [],
   "source": [
    "path='/glade/work/dll/CTSM_py/notebooks/'\n",
    "brw={'name':'Barrow', 'acronym': 'brw',  'lat': 71.3, 'lon':360-156.61, 'z': 11.0}\n",
    "mlo={'name':'Mauna Loa', 'acronym': 'mlo', 'lat': 19.5, 'lon':360-155.6, 'z':3397.0}\n",
    "nwr={'name':'Niwot Ridge', 'acronym':'nwr', 'lat':40.1, 'lon':360-105.6, 'z':3523.0}"
   ]
  },
  {
   "cell_type": "code",
   "execution_count": 7,
   "metadata": {},
   "outputs": [],
   "source": [
    "ESRL=[brw, mlo, nwr]"
   ]
  },
  {
   "cell_type": "code",
   "execution_count": 8,
   "metadata": {},
   "outputs": [
    {
     "name": "stdout",
     "output_type": "stream",
     "text": [
      "brw first year 1971.0 last year 2018.0\n",
      "mlo first year 1959.0 last year 2018.0\n",
      "nwr first year 1968.0 last year 2019.0\n"
     ]
    }
   ],
   "source": [
    "dfs = []\n",
    "\n",
    "for site in ESRL:\n",
    "#    print(site)\n",
    "    filename=path+'co2_'+site['acronym']+'_surface-flask_1_ccgg_month.txt'\n",
    "    #import glob\n",
    "    #filename=glob.glob(partialname+ '*co2')\n",
    "    with open(filename, 'r') as fid:\n",
    "        first_line=fid.readline()\n",
    "        nheader=first_line[-3:-1]\n",
    "        nheader=np.int(np.float(nheader))\n",
    "    data=np.loadtxt(filename, usecols=(1,2,3), skiprows=nheader)\n",
    "    time=data[:,0]+data[:,1]/12\n",
    "    co2=data[:,2]\n",
    "    month=data[:,1]\n",
    "    year=data[:,0]\n",
    "    site['year']=year.astype(int)\n",
    "    site['month']=month.astype(int)\n",
    "    site['co2']=co2\n",
    "    dfs.append(pd.DataFrame(site)) #turn dictionary into a pandas dataframe\n",
    "    \n",
    "    print(site['acronym']+' first year '+str(min(year)) +' last year '+str(max(year)))\n",
    "    \n",
    "df = pd.concat(dfs)\n",
    "df['time'] = pd.to_datetime(df.year.astype('str') + '-' + df.month.astype('str'))"
   ]
  },
  {
   "cell_type": "markdown",
   "metadata": {},
   "source": [
    "### Calculating Observation Amplitude"
   ]
  },
  {
   "cell_type": "code",
   "execution_count": 9,
   "metadata": {},
   "outputs": [],
   "source": [
    "ds = df.set_index(['time', 'name'])[['co2']].to_xarray()\n",
    "\n",
    "grouped = ds.groupby('name')\n",
    "dsets = []\n",
    "for site, dataset in grouped:\n",
    "    g = dataset.groupby('time.year')\n",
    "    r = (g.max() - g.min())\n",
    "    dsets.append(r)\n",
    "\n",
    "x = xr.concat(dsets, dim='name')"
   ]
  },
  {
   "cell_type": "markdown",
   "metadata": {},
   "source": [
    "### Pulling out site locations"
   ]
  },
  {
   "cell_type": "code",
   "execution_count": 10,
   "metadata": {},
   "outputs": [],
   "source": [
    "ml_nbp = {}\n",
    "bar_nbp = {}\n",
    "nwt_nbp = {}\n",
    "\n",
    "ml_nbp_mean = {}\n",
    "ml_nbp_std = {}\n",
    "ml_pct_diff = {}\n",
    "bar_nbp_mean = {}\n",
    "bar_nbp_std = {}\n",
    "bar_pct_diff = {}\n",
    "nwt_nbp_mean = {}\n",
    "nwt_nbp_std = {}\n",
    "nwt_pct_diff = {}\n",
    "\n",
    "for sim_name, data in co2_ds.items():\n",
    "    ml_nbp[sim_name] = data.sel(lat=19.5,lon=204.4, plev=70000, method='nearest')* convert\n",
    "    bar_nbp[sim_name] = data.sel(lat=71.3,lon=203.4, plev=92500, method='nearest')* convert\n",
    "    nwt_nbp[sim_name] = data.sel(lat=40.1,lon=254.4, plev=70000, method='nearest')* convert"
   ]
  },
  {
   "cell_type": "markdown",
   "metadata": {},
   "source": [
    "### Calculating CMIP6 amplitude time series and 2000-2015 mean and error for each location"
   ]
  },
  {
   "cell_type": "code",
   "execution_count": 11,
   "metadata": {},
   "outputs": [],
   "source": [
    "# Mauna Loa\n",
    "for sim_name, data in ml_nbp.items():\n",
    "    co2amp = data.resample(time=\"Y\").max() - data.resample(time=\"Y\").min()\n",
    "    ml_nbp[sim_name] = co2amp\n",
    "    co2_mean_amp = co2amp.sel(time=slice(\"2010\", \"2015\")).mean()\n",
    "    ml_nbp_mean[sim_name] = co2_mean_amp\n",
    "    co2_std_amp = co2amp.isel(time=slice(-60, None)).std()\n",
    "    ml_nbp_std[sim_name] = co2_std_amp\n",
    "    ml_pct_diff[sim_name] = (co2amp.sel(time=slice(\"2010\", \"2015\")).mean() - co2amp.sel(time=slice(\"1970\", \"1975\")).mean())/(co2amp.sel(time=slice(\"1970\", \"1975\")).mean())*100"
   ]
  },
  {
   "cell_type": "code",
   "execution_count": 37,
   "metadata": {
    "collapsed": true,
    "jupyter": {
     "outputs_hidden": true,
     "source_hidden": true
    }
   },
   "outputs": [
    {
     "data": {
      "text/plain": [
       "<bound method Dataset.to_array of <xarray.Dataset>\n",
       "Dimensions:  ()\n",
       "Coordinates:\n",
       "    name     <U9 'Mauna Loa'\n",
       "Data variables:\n",
       "    co2      float64 6.318>"
      ]
     },
     "execution_count": 37,
     "metadata": {},
     "output_type": "execute_result"
    }
   ],
   "source": [
    "ml_nbp_mean['obs']"
   ]
  },
  {
   "cell_type": "code",
   "execution_count": 12,
   "metadata": {},
   "outputs": [],
   "source": [
    "# Barrow\n",
    "for sim_name, data in bar_nbp.items():\n",
    "    co2amp = data.resample(time=\"Y\").max() - data.resample(time=\"Y\").min()\n",
    "    bar_nbp[sim_name] = co2amp\n",
    "    bar_nbp_mean[sim_name]= co2amp.sel(time=slice(\"2010\", \"2015\")).mean()\n",
    "    bar_nbp_std[sim_name] = co2amp.sel(time=slice(\"2010\", \"2015\")).std()\n",
    "    bar_pct_diff[sim_name] = (co2amp.sel(time=slice(\"2010\", \"2015\")).mean() - co2amp.sel(time=slice(\"1970\", \"1975\")).mean())/(co2amp.sel(time=slice(\"1970\", \"1975\")).mean())*100"
   ]
  },
  {
   "cell_type": "code",
   "execution_count": 13,
   "metadata": {},
   "outputs": [],
   "source": [
    "# Niwot Ridge\n",
    "for sim_name, data in nwt_nbp.items():\n",
    "    co2amp = data.resample(time=\"Y\").max() - data.resample(time=\"Y\").min()\n",
    "    nwt_nbp[sim_name] = co2amp\n",
    "    nwt_nbp_mean[sim_name] = co2amp.sel(time=slice(\"2010\", \"2015\")).mean()\n",
    "    nwt_nbp_std[sim_name] = co2amp.sel(time=slice(\"2010\", \"2015\")).std()\n",
    "    nwt_pct_diff[sim_name] = (co2amp.sel(time=slice(\"2010\", \"2015\")).mean() - co2amp.sel(time=slice(\"1975\", \"1980\")).mean())/(co2amp.sel(time=slice(\"1975\", \"1980\")).mean())*100"
   ]
  },
  {
   "cell_type": "markdown",
   "metadata": {
    "jupyter": {
     "source_hidden": true
    }
   },
   "source": [
    "### Plotting mean amplitude averaged for 2000-2015"
   ]
  },
  {
   "cell_type": "code",
   "execution_count": 18,
   "metadata": {
    "collapsed": true,
    "jupyter": {
     "outputs_hidden": true,
     "source_hidden": true
    }
   },
   "outputs": [
    {
     "ename": "TypeError",
     "evalue": "bar() missing 2 required positional arguments: 'x' and 'height'",
     "output_type": "error",
     "traceback": [
      "\u001b[0;31m---------------------------------------------------------------------------\u001b[0m",
      "\u001b[0;31mTypeError\u001b[0m                                 Traceback (most recent call last)",
      "\u001b[0;32m<ipython-input-18-a0ba5648ed8b>\u001b[0m in \u001b[0;36m<module>\u001b[0;34m\u001b[0m\n\u001b[1;32m      1\u001b[0m \u001b[0;31m#quick error check\u001b[0m\u001b[0;34m\u001b[0m\u001b[0;34m\u001b[0m\u001b[0;34m\u001b[0m\u001b[0m\n\u001b[1;32m      2\u001b[0m \u001b[0mplt\u001b[0m\u001b[0;34m.\u001b[0m\u001b[0mfigure\u001b[0m\u001b[0;34m(\u001b[0m\u001b[0mfigsize\u001b[0m\u001b[0;34m=\u001b[0m\u001b[0;34m(\u001b[0m\u001b[0;36m10\u001b[0m\u001b[0;34m,\u001b[0m\u001b[0;36m3\u001b[0m\u001b[0;34m)\u001b[0m\u001b[0;34m)\u001b[0m\u001b[0;34m\u001b[0m\u001b[0;34m\u001b[0m\u001b[0m\n\u001b[0;32m----> 3\u001b[0;31m \u001b[0mplt\u001b[0m\u001b[0;34m.\u001b[0m\u001b[0mbar\u001b[0m\u001b[0;34m(\u001b[0m\u001b[0;34m*\u001b[0m\u001b[0mzip\u001b[0m\u001b[0;34m(\u001b[0m\u001b[0;34m*\u001b[0m\u001b[0mbar_nbp_mean\u001b[0m\u001b[0;34m.\u001b[0m\u001b[0mitems\u001b[0m\u001b[0;34m(\u001b[0m\u001b[0;34m)\u001b[0m\u001b[0;34m)\u001b[0m\u001b[0;34m)\u001b[0m\u001b[0;34m\u001b[0m\u001b[0;34m\u001b[0m\u001b[0m\n\u001b[0m\u001b[1;32m      4\u001b[0m \u001b[0mplt\u001b[0m\u001b[0;34m.\u001b[0m\u001b[0mshow\u001b[0m\u001b[0;34m(\u001b[0m\u001b[0;34m)\u001b[0m\u001b[0;34m\u001b[0m\u001b[0;34m\u001b[0m\u001b[0m\n",
      "\u001b[0;31mTypeError\u001b[0m: bar() missing 2 required positional arguments: 'x' and 'height'"
     ]
    },
    {
     "data": {
      "text/plain": [
       "<Figure size 720x216 with 0 Axes>"
      ]
     },
     "metadata": {},
     "output_type": "display_data"
    }
   ],
   "source": [
    "#quick error check\n",
    "plt.figure(figsize=(10,3))\n",
    "plt.bar(*zip(*bar_nbp_mean.items()))\n",
    "plt.show()"
   ]
  },
  {
   "cell_type": "markdown",
   "metadata": {},
   "source": [
    "### Calculating observational amplitude time series and 2000-2015 mean and error for each location"
   ]
  },
  {
   "cell_type": "code",
   "execution_count": 14,
   "metadata": {},
   "outputs": [],
   "source": [
    "mllate = x.sel(name=(\"Mauna Loa\"), year=slice(\"2010\", \"2015\")).mean()\n",
    "mlstd = x.sel(name=(\"Mauna Loa\"), year=slice(\"2010\", \"2015\")).std()\n",
    "mlearly = x.sel(name=(\"Mauna Loa\"),year=slice(\"1970\", \"1975\")).mean()\n",
    "mlpctdiff = (mllate-mlearly)/mlearly*100\n",
    "\n",
    "barlate = x.sel(name=(\"Barrow\"), year=slice(\"2010\", \"2015\")).mean()\n",
    "barstd = x.sel(name=(\"Barrow\"), year=slice(\"2010\", \"2015\")).std()\n",
    "barearly = x.sel(name=(\"Barrow\"),year=slice(\"1970\", \"1975\")).mean()\n",
    "barpctdiff = (barlate-barearly)/barearly*100\n",
    "\n",
    "nwtlate = x.sel(name=(\"Niwot Ridge\"), year=slice(\"2010\", \"2015\")).mean()\n",
    "nwtstd = x.sel(name=(\"Niwot Ridge\"), year=slice(\"2010\", \"2015\")).std()\n",
    "nwtearly = x.sel(name=(\"Niwot Ridge\"),year=slice(\"1975\", \"1980\")).mean()\n",
    "nwtpctdiff = (nwtlate-nwtearly)/nwtearly*100"
   ]
  },
  {
   "cell_type": "markdown",
   "metadata": {},
   "source": [
    "### Adding observations to CMIP6 dictionary"
   ]
  },
  {
   "cell_type": "code",
   "execution_count": 15,
   "metadata": {},
   "outputs": [],
   "source": [
    "ml_nbp_mean['obs'] = mllate.to_array\n",
    "ml_nbp_std['obs'] = mlstd.to_array\n",
    "ml_pct_diff['obs'] = mlpctdiff.to_array"
   ]
  },
  {
   "cell_type": "markdown",
   "metadata": {},
   "source": [
    "### Plotting amplitude vs change in amplitude at each site\n",
    "Note: observations cause plotting error"
   ]
  },
  {
   "cell_type": "code",
   "execution_count": 16,
   "metadata": {},
   "outputs": [
    {
     "ename": "TypeError",
     "evalue": "float() argument must be a string or a number, not 'method'",
     "output_type": "error",
     "traceback": [
      "\u001b[0;31m---------------------------------------------------------------------------\u001b[0m",
      "\u001b[0;31mTypeError\u001b[0m                                 Traceback (most recent call last)",
      "\u001b[0;32m<ipython-input-16-0ff76971ccdb>\u001b[0m in \u001b[0;36m<module>\u001b[0;34m\u001b[0m\n\u001b[1;32m      2\u001b[0m \u001b[0mfig\u001b[0m\u001b[0;34m,\u001b[0m \u001b[0max\u001b[0m \u001b[0;34m=\u001b[0m \u001b[0mplt\u001b[0m\u001b[0;34m.\u001b[0m\u001b[0msubplots\u001b[0m\u001b[0;34m(\u001b[0m\u001b[0;34m)\u001b[0m\u001b[0;34m\u001b[0m\u001b[0;34m\u001b[0m\u001b[0m\n\u001b[1;32m      3\u001b[0m \u001b[0;32mfor\u001b[0m \u001b[0mk\u001b[0m \u001b[0;32min\u001b[0m \u001b[0mml_nbp_mean\u001b[0m\u001b[0;34m.\u001b[0m\u001b[0mkeys\u001b[0m\u001b[0;34m(\u001b[0m\u001b[0;34m)\u001b[0m\u001b[0;34m:\u001b[0m\u001b[0;34m\u001b[0m\u001b[0;34m\u001b[0m\u001b[0m\n\u001b[0;32m----> 4\u001b[0;31m     \u001b[0max\u001b[0m\u001b[0;34m.\u001b[0m\u001b[0mplot\u001b[0m\u001b[0;34m(\u001b[0m\u001b[0mml_nbp_mean\u001b[0m\u001b[0;34m[\u001b[0m\u001b[0mk\u001b[0m\u001b[0;34m]\u001b[0m\u001b[0;34m,\u001b[0m \u001b[0mml_pct_diff\u001b[0m\u001b[0;34m[\u001b[0m\u001b[0mk\u001b[0m\u001b[0;34m]\u001b[0m\u001b[0;34m,\u001b[0m \u001b[0mmarker\u001b[0m\u001b[0;34m=\u001b[0m\u001b[0;34m'o'\u001b[0m\u001b[0;34m)\u001b[0m\u001b[0;34m\u001b[0m\u001b[0;34m\u001b[0m\u001b[0m\n\u001b[0m\u001b[1;32m      5\u001b[0m \u001b[0max\u001b[0m\u001b[0;34m.\u001b[0m\u001b[0mset_ylabel\u001b[0m\u001b[0;34m(\u001b[0m\u001b[0;34m\"% Change in 2010-2015 from 1960-1965\"\u001b[0m\u001b[0;34m)\u001b[0m\u001b[0;34m\u001b[0m\u001b[0;34m\u001b[0m\u001b[0m\n\u001b[1;32m      6\u001b[0m \u001b[0max\u001b[0m\u001b[0;34m.\u001b[0m\u001b[0mset_xlabel\u001b[0m\u001b[0;34m(\u001b[0m\u001b[0;34m\"2010-2015 Amplitude\"\u001b[0m\u001b[0;34m)\u001b[0m\u001b[0;34m\u001b[0m\u001b[0;34m\u001b[0m\u001b[0m\n",
      "\u001b[0;32m/ncar/usr/jupyterhub/envs/cmip6-201910/lib/python3.7/site-packages/matplotlib/axes/_axes.py\u001b[0m in \u001b[0;36mplot\u001b[0;34m(self, scalex, scaley, data, *args, **kwargs)\u001b[0m\n\u001b[1;32m   1743\u001b[0m         \u001b[0mlines\u001b[0m \u001b[0;34m=\u001b[0m \u001b[0;34m[\u001b[0m\u001b[0;34m*\u001b[0m\u001b[0mself\u001b[0m\u001b[0;34m.\u001b[0m\u001b[0m_get_lines\u001b[0m\u001b[0;34m(\u001b[0m\u001b[0;34m*\u001b[0m\u001b[0margs\u001b[0m\u001b[0;34m,\u001b[0m \u001b[0mdata\u001b[0m\u001b[0;34m=\u001b[0m\u001b[0mdata\u001b[0m\u001b[0;34m,\u001b[0m \u001b[0;34m**\u001b[0m\u001b[0mkwargs\u001b[0m\u001b[0;34m)\u001b[0m\u001b[0;34m]\u001b[0m\u001b[0;34m\u001b[0m\u001b[0;34m\u001b[0m\u001b[0m\n\u001b[1;32m   1744\u001b[0m         \u001b[0;32mfor\u001b[0m \u001b[0mline\u001b[0m \u001b[0;32min\u001b[0m \u001b[0mlines\u001b[0m\u001b[0;34m:\u001b[0m\u001b[0;34m\u001b[0m\u001b[0;34m\u001b[0m\u001b[0m\n\u001b[0;32m-> 1745\u001b[0;31m             \u001b[0mself\u001b[0m\u001b[0;34m.\u001b[0m\u001b[0madd_line\u001b[0m\u001b[0;34m(\u001b[0m\u001b[0mline\u001b[0m\u001b[0;34m)\u001b[0m\u001b[0;34m\u001b[0m\u001b[0;34m\u001b[0m\u001b[0m\n\u001b[0m\u001b[1;32m   1746\u001b[0m         \u001b[0mself\u001b[0m\u001b[0;34m.\u001b[0m\u001b[0m_request_autoscale_view\u001b[0m\u001b[0;34m(\u001b[0m\u001b[0mscalex\u001b[0m\u001b[0;34m=\u001b[0m\u001b[0mscalex\u001b[0m\u001b[0;34m,\u001b[0m \u001b[0mscaley\u001b[0m\u001b[0;34m=\u001b[0m\u001b[0mscaley\u001b[0m\u001b[0;34m)\u001b[0m\u001b[0;34m\u001b[0m\u001b[0;34m\u001b[0m\u001b[0m\n\u001b[1;32m   1747\u001b[0m         \u001b[0;32mreturn\u001b[0m \u001b[0mlines\u001b[0m\u001b[0;34m\u001b[0m\u001b[0;34m\u001b[0m\u001b[0m\n",
      "\u001b[0;32m/ncar/usr/jupyterhub/envs/cmip6-201910/lib/python3.7/site-packages/matplotlib/axes/_base.py\u001b[0m in \u001b[0;36madd_line\u001b[0;34m(self, line)\u001b[0m\n\u001b[1;32m   1967\u001b[0m             \u001b[0mline\u001b[0m\u001b[0;34m.\u001b[0m\u001b[0mset_clip_path\u001b[0m\u001b[0;34m(\u001b[0m\u001b[0mself\u001b[0m\u001b[0;34m.\u001b[0m\u001b[0mpatch\u001b[0m\u001b[0;34m)\u001b[0m\u001b[0;34m\u001b[0m\u001b[0;34m\u001b[0m\u001b[0m\n\u001b[1;32m   1968\u001b[0m \u001b[0;34m\u001b[0m\u001b[0m\n\u001b[0;32m-> 1969\u001b[0;31m         \u001b[0mself\u001b[0m\u001b[0;34m.\u001b[0m\u001b[0m_update_line_limits\u001b[0m\u001b[0;34m(\u001b[0m\u001b[0mline\u001b[0m\u001b[0;34m)\u001b[0m\u001b[0;34m\u001b[0m\u001b[0;34m\u001b[0m\u001b[0m\n\u001b[0m\u001b[1;32m   1970\u001b[0m         \u001b[0;32mif\u001b[0m \u001b[0;32mnot\u001b[0m \u001b[0mline\u001b[0m\u001b[0;34m.\u001b[0m\u001b[0mget_label\u001b[0m\u001b[0;34m(\u001b[0m\u001b[0;34m)\u001b[0m\u001b[0;34m:\u001b[0m\u001b[0;34m\u001b[0m\u001b[0;34m\u001b[0m\u001b[0m\n\u001b[1;32m   1971\u001b[0m             \u001b[0mline\u001b[0m\u001b[0;34m.\u001b[0m\u001b[0mset_label\u001b[0m\u001b[0;34m(\u001b[0m\u001b[0;34m'_line%d'\u001b[0m \u001b[0;34m%\u001b[0m \u001b[0mlen\u001b[0m\u001b[0;34m(\u001b[0m\u001b[0mself\u001b[0m\u001b[0;34m.\u001b[0m\u001b[0mlines\u001b[0m\u001b[0;34m)\u001b[0m\u001b[0;34m)\u001b[0m\u001b[0;34m\u001b[0m\u001b[0;34m\u001b[0m\u001b[0m\n",
      "\u001b[0;32m/ncar/usr/jupyterhub/envs/cmip6-201910/lib/python3.7/site-packages/matplotlib/axes/_base.py\u001b[0m in \u001b[0;36m_update_line_limits\u001b[0;34m(self, line)\u001b[0m\n\u001b[1;32m   1989\u001b[0m         \u001b[0mFigures\u001b[0m \u001b[0mout\u001b[0m \u001b[0mthe\u001b[0m \u001b[0mdata\u001b[0m \u001b[0mlimit\u001b[0m \u001b[0mof\u001b[0m \u001b[0mthe\u001b[0m \u001b[0mgiven\u001b[0m \u001b[0mline\u001b[0m\u001b[0;34m,\u001b[0m \u001b[0mupdating\u001b[0m \u001b[0mself\u001b[0m\u001b[0;34m.\u001b[0m\u001b[0mdataLim\u001b[0m\u001b[0;34m.\u001b[0m\u001b[0;34m\u001b[0m\u001b[0;34m\u001b[0m\u001b[0m\n\u001b[1;32m   1990\u001b[0m         \"\"\"\n\u001b[0;32m-> 1991\u001b[0;31m         \u001b[0mpath\u001b[0m \u001b[0;34m=\u001b[0m \u001b[0mline\u001b[0m\u001b[0;34m.\u001b[0m\u001b[0mget_path\u001b[0m\u001b[0;34m(\u001b[0m\u001b[0;34m)\u001b[0m\u001b[0;34m\u001b[0m\u001b[0;34m\u001b[0m\u001b[0m\n\u001b[0m\u001b[1;32m   1992\u001b[0m         \u001b[0;32mif\u001b[0m \u001b[0mpath\u001b[0m\u001b[0;34m.\u001b[0m\u001b[0mvertices\u001b[0m\u001b[0;34m.\u001b[0m\u001b[0msize\u001b[0m \u001b[0;34m==\u001b[0m \u001b[0;36m0\u001b[0m\u001b[0;34m:\u001b[0m\u001b[0;34m\u001b[0m\u001b[0;34m\u001b[0m\u001b[0m\n\u001b[1;32m   1993\u001b[0m             \u001b[0;32mreturn\u001b[0m\u001b[0;34m\u001b[0m\u001b[0;34m\u001b[0m\u001b[0m\n",
      "\u001b[0;32m/ncar/usr/jupyterhub/envs/cmip6-201910/lib/python3.7/site-packages/matplotlib/lines.py\u001b[0m in \u001b[0;36mget_path\u001b[0;34m(self)\u001b[0m\n\u001b[1;32m   1009\u001b[0m         \"\"\"\n\u001b[1;32m   1010\u001b[0m         \u001b[0;32mif\u001b[0m \u001b[0mself\u001b[0m\u001b[0;34m.\u001b[0m\u001b[0m_invalidy\u001b[0m \u001b[0;32mor\u001b[0m \u001b[0mself\u001b[0m\u001b[0;34m.\u001b[0m\u001b[0m_invalidx\u001b[0m\u001b[0;34m:\u001b[0m\u001b[0;34m\u001b[0m\u001b[0;34m\u001b[0m\u001b[0m\n\u001b[0;32m-> 1011\u001b[0;31m             \u001b[0mself\u001b[0m\u001b[0;34m.\u001b[0m\u001b[0mrecache\u001b[0m\u001b[0;34m(\u001b[0m\u001b[0;34m)\u001b[0m\u001b[0;34m\u001b[0m\u001b[0;34m\u001b[0m\u001b[0m\n\u001b[0m\u001b[1;32m   1012\u001b[0m         \u001b[0;32mreturn\u001b[0m \u001b[0mself\u001b[0m\u001b[0;34m.\u001b[0m\u001b[0m_path\u001b[0m\u001b[0;34m\u001b[0m\u001b[0;34m\u001b[0m\u001b[0m\n\u001b[1;32m   1013\u001b[0m \u001b[0;34m\u001b[0m\u001b[0m\n",
      "\u001b[0;32m/ncar/usr/jupyterhub/envs/cmip6-201910/lib/python3.7/site-packages/matplotlib/lines.py\u001b[0m in \u001b[0;36mrecache\u001b[0;34m(self, always)\u001b[0m\n\u001b[1;32m    651\u001b[0m         \u001b[0;32mif\u001b[0m \u001b[0malways\u001b[0m \u001b[0;32mor\u001b[0m \u001b[0mself\u001b[0m\u001b[0;34m.\u001b[0m\u001b[0m_invalidx\u001b[0m\u001b[0;34m:\u001b[0m\u001b[0;34m\u001b[0m\u001b[0;34m\u001b[0m\u001b[0m\n\u001b[1;32m    652\u001b[0m             \u001b[0mxconv\u001b[0m \u001b[0;34m=\u001b[0m \u001b[0mself\u001b[0m\u001b[0;34m.\u001b[0m\u001b[0mconvert_xunits\u001b[0m\u001b[0;34m(\u001b[0m\u001b[0mself\u001b[0m\u001b[0;34m.\u001b[0m\u001b[0m_xorig\u001b[0m\u001b[0;34m)\u001b[0m\u001b[0;34m\u001b[0m\u001b[0;34m\u001b[0m\u001b[0m\n\u001b[0;32m--> 653\u001b[0;31m             \u001b[0mx\u001b[0m \u001b[0;34m=\u001b[0m \u001b[0m_to_unmasked_float_array\u001b[0m\u001b[0;34m(\u001b[0m\u001b[0mxconv\u001b[0m\u001b[0;34m)\u001b[0m\u001b[0;34m.\u001b[0m\u001b[0mravel\u001b[0m\u001b[0;34m(\u001b[0m\u001b[0;34m)\u001b[0m\u001b[0;34m\u001b[0m\u001b[0;34m\u001b[0m\u001b[0m\n\u001b[0m\u001b[1;32m    654\u001b[0m         \u001b[0;32melse\u001b[0m\u001b[0;34m:\u001b[0m\u001b[0;34m\u001b[0m\u001b[0;34m\u001b[0m\u001b[0m\n\u001b[1;32m    655\u001b[0m             \u001b[0mx\u001b[0m \u001b[0;34m=\u001b[0m \u001b[0mself\u001b[0m\u001b[0;34m.\u001b[0m\u001b[0m_x\u001b[0m\u001b[0;34m\u001b[0m\u001b[0;34m\u001b[0m\u001b[0m\n",
      "\u001b[0;32m/ncar/usr/jupyterhub/envs/cmip6-201910/lib/python3.7/site-packages/matplotlib/cbook/__init__.py\u001b[0m in \u001b[0;36m_to_unmasked_float_array\u001b[0;34m(x)\u001b[0m\n\u001b[1;32m   1287\u001b[0m         \u001b[0;32mreturn\u001b[0m \u001b[0mnp\u001b[0m\u001b[0;34m.\u001b[0m\u001b[0mma\u001b[0m\u001b[0;34m.\u001b[0m\u001b[0masarray\u001b[0m\u001b[0;34m(\u001b[0m\u001b[0mx\u001b[0m\u001b[0;34m,\u001b[0m \u001b[0mfloat\u001b[0m\u001b[0;34m)\u001b[0m\u001b[0;34m.\u001b[0m\u001b[0mfilled\u001b[0m\u001b[0;34m(\u001b[0m\u001b[0mnp\u001b[0m\u001b[0;34m.\u001b[0m\u001b[0mnan\u001b[0m\u001b[0;34m)\u001b[0m\u001b[0;34m\u001b[0m\u001b[0;34m\u001b[0m\u001b[0m\n\u001b[1;32m   1288\u001b[0m     \u001b[0;32melse\u001b[0m\u001b[0;34m:\u001b[0m\u001b[0;34m\u001b[0m\u001b[0;34m\u001b[0m\u001b[0m\n\u001b[0;32m-> 1289\u001b[0;31m         \u001b[0;32mreturn\u001b[0m \u001b[0mnp\u001b[0m\u001b[0;34m.\u001b[0m\u001b[0masarray\u001b[0m\u001b[0;34m(\u001b[0m\u001b[0mx\u001b[0m\u001b[0;34m,\u001b[0m \u001b[0mfloat\u001b[0m\u001b[0;34m)\u001b[0m\u001b[0;34m\u001b[0m\u001b[0;34m\u001b[0m\u001b[0m\n\u001b[0m\u001b[1;32m   1290\u001b[0m \u001b[0;34m\u001b[0m\u001b[0m\n\u001b[1;32m   1291\u001b[0m \u001b[0;34m\u001b[0m\u001b[0m\n",
      "\u001b[0;32m/ncar/usr/jupyterhub/envs/cmip6-201910/lib/python3.7/site-packages/numpy/core/_asarray.py\u001b[0m in \u001b[0;36masarray\u001b[0;34m(a, dtype, order)\u001b[0m\n\u001b[1;32m     81\u001b[0m \u001b[0;34m\u001b[0m\u001b[0m\n\u001b[1;32m     82\u001b[0m     \"\"\"\n\u001b[0;32m---> 83\u001b[0;31m     \u001b[0;32mreturn\u001b[0m \u001b[0marray\u001b[0m\u001b[0;34m(\u001b[0m\u001b[0ma\u001b[0m\u001b[0;34m,\u001b[0m \u001b[0mdtype\u001b[0m\u001b[0;34m,\u001b[0m \u001b[0mcopy\u001b[0m\u001b[0;34m=\u001b[0m\u001b[0;32mFalse\u001b[0m\u001b[0;34m,\u001b[0m \u001b[0morder\u001b[0m\u001b[0;34m=\u001b[0m\u001b[0morder\u001b[0m\u001b[0;34m)\u001b[0m\u001b[0;34m\u001b[0m\u001b[0;34m\u001b[0m\u001b[0m\n\u001b[0m\u001b[1;32m     84\u001b[0m \u001b[0;34m\u001b[0m\u001b[0m\n\u001b[1;32m     85\u001b[0m \u001b[0;34m\u001b[0m\u001b[0m\n",
      "\u001b[0;31mTypeError\u001b[0m: float() argument must be a string or a number, not 'method'"
     ]
    },
    {
     "data": {
      "image/png": "[encoded data removed]",
      "text/plain": [
       "<Figure size 432x288 with 1 Axes>"
      ]
     },
     "metadata": {
      "needs_background": "light"
     },
     "output_type": "display_data"
    }
   ],
   "source": [
    "# Note: error related to plotting obs value\n",
    "fig, ax = plt.subplots()\n",
    "for k in ml_nbp_mean.keys():\n",
    "    ax.plot(ml_nbp_mean[k], ml_pct_diff[k], marker='o')\n",
    "ax.set_ylabel(\"% Change in 2010-2015 from 1960-1965\")\n",
    "ax.set_xlabel(\"2010-2015 Amplitude\")\n",
    "ax.legend(ml_nbp_mean.keys())\n",
    "plt.title('Mauna Loa')\n",
    "\n",
    "#plt.savefig('CMIP6_MLO.pdf')"
   ]
  },
  {
   "cell_type": "code",
   "execution_count": 20,
   "metadata": {},
   "outputs": [
    {
     "data": {
      "image/png": "[encoded data removed]",
      "text/plain": [
       "<Figure size 432x288 with 1 Axes>"
      ]
     },
     "metadata": {
      "needs_background": "light"
     },
     "output_type": "display_data"
    }
   ],
   "source": [
    "fig, ax = plt.subplots()\n",
    "for k in bar_nbp_mean.keys():\n",
    "    ax.plot(bar_nbp_mean[k], bar_pct_diff[k], marker='o')\n",
    "ax.set_ylabel(\"% Change in 2010-2015 from 1960-1965\")\n",
    "ax.set_xlabel(\"2010-2015 Amplitude\")  \n",
    "ax.legend(bar_nbp_mean.keys())\n",
    "plt.title('Barrow')\n",
    "\n",
    "#plt.savefig('CMIP6_BRW.pdf')"
   ]
  },
  {
   "cell_type": "code",
   "execution_count": 34,
   "metadata": {},
   "outputs": [
    {
     "data": {
      "image/png": "[encoded data removed]",
      "text/plain": [
       "<Figure size 432x288 with 1 Axes>"
      ]
     },
     "metadata": {
      "needs_background": "light"
     },
     "output_type": "display_data"
    }
   ],
   "source": [
    "fig, ax = plt.subplots()\n",
    "for k in nwt_nbp_mean.keys():\n",
    "    ax.plot(nwt_nbp_mean[k], nwt_pct_diff[k], marker='o')\n",
    "ax.set_ylabel(\"% Change in 2010-2015 from 1960-1965\")\n",
    "ax.set_xlabel(\"2010-2015 Amplitude\")  \n",
    "ax.legend(nwt_nbp_mean.keys())\n",
    "plt.title('Niwot Ridge')\n",
    "\n",
    "#plt.savefig('CMIP6_NWT.pdf')"
   ]
  },
  {
   "cell_type": "code",
   "execution_count": 18,
   "metadata": {},
   "outputs": [
    {
     "data": {
      "text/plain": [
       "Text(0.5, 0, '2010-2015 Amplitude')"
      ]
     },
     "execution_count": 18,
     "metadata": {},
     "output_type": "execute_result"
    },
    {
     "data": {
      "image/png": "[encoded data removed]",
      "text/plain": [
       "<Figure size 432x288 with 1 Axes>"
      ]
     },
     "metadata": {
      "needs_background": "light"
     },
     "output_type": "display_data"
    }
   ],
   "source": [
    "#This also works for a quick look, but all markers are the same color\n",
    "fig, ax = plt.subplots()\n",
    "ax.scatter(ml_nbp_mean.values(), ml_pct_diff.values(), marker = 'o')\n",
    "ax.set_ylabel(\"Percent Change from 1960-1965\")\n",
    "ax.set_xlabel(\"2010-2015 Amplitude\")"
   ]
  },
  {
   "cell_type": "code",
   "execution_count": null,
   "metadata": {},
   "outputs": [],
   "source": []
  },
  {
   "cell_type": "code",
   "execution_count": null,
   "metadata": {},
   "outputs": [],
   "source": []
  },
  {
   "cell_type": "code",
   "execution_count": null,
   "metadata": {},
   "outputs": [],
   "source": []
  }
 ],
 "metadata": {
  "kernelspec": {
   "display_name": "CMIP6 2019.10",
   "language": "python",
   "name": "cmip6-201910"
  },
  "language_info": {
   "codemirror_mode": {
    "name": "ipython",
    "version": 3
   },
   "file_extension": ".py",
   "mimetype": "text/x-python",
   "name": "python",
   "nbconvert_exporter": "python",
   "pygments_lexer": "ipython3",
   "version": "3.7.8"
  }
 },
 "nbformat": 4,
 "nbformat_minor": 4
}
