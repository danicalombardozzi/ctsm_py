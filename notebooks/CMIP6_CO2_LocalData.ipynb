{
 "cells": [
  {
   "cell_type": "code",
   "execution_count": 1,
   "metadata": {},
   "outputs": [],
   "source": [
    "import xarray as xr\n",
    "import numpy as np\n",
    "import matplotlib.pyplot as plt\n",
    "import esmlab\n",
    "\n",
    "import warnings\n",
    "warnings.filterwarnings(\"ignore\")"
   ]
  },
  {
   "cell_type": "markdown",
   "metadata": {},
   "source": [
    "### Reading in Data"
   ]
  },
  {
   "cell_type": "code",
   "execution_count": 2,
   "metadata": {},
   "outputs": [],
   "source": [
    "dir = '/glade/p/cesm/lmwg_dev/dll/CMIP6_CO2/CatCO2data/'\n",
    "#note: 'CNRM-ESM2-1' uses r1k1p1f2 -- does this mean it's different in some way?\n",
    "\n",
    "BCC_CSM2 = xr.open_dataset(dir + \"co2_Amon_BCC-CSM2-MR_historical_r1i1p1f1_gn_185001-201412.nc\")\n",
    "BCC_ESM1 = xr.open_dataset(dir + \"co2_Amon_BCC-ESM1_historical_r1i1p1f1_gn_185001-201412.nc\")\n",
    "CNRM     = xr.open_dataset(dir + \"co2_Amon_CNRM-ESM2-1_historical_r1i1p1f2_gr_185001-201412.nc\")\n",
    "GFDL     = xr.open_dataset(dir + \"co2_Amon_GFDL-ESM4_historical_r1i1p1f1_gr1_185001-201412.nc\")\n",
    "MRI      = xr.open_dataset(dir + \"co2_Amon_MRI-ESM2-0_historical_r1i1p1f1_gn_185001-201412.nc\")\n",
    "NorESM   = xr.open_dataset(dir + \"co2_Amon_NorESM2-MM_historical_r1i1p1f1_gn_185001-201412.nc\")\n",
    "CESM     = xr.open_dataset(dir + \"co2_Amon_CESM2_historical_r1i1p1f1_gn_185001-201412.nc\")\n"
   ]
  },
  {
   "cell_type": "markdown",
   "metadata": {},
   "source": [
    "### Updating coordinates so math functions work properly"
   ]
  },
  {
   "cell_type": "code",
   "execution_count": 3,
   "metadata": {},
   "outputs": [],
   "source": [
    "#coordinates are already properly set for CNRM\n",
    "BCC_CSM2 = BCC_CSM2.set_coords(['time_bnds', 'lat_bnds', 'lon_bnds'])\n",
    "BCC_ESM1 = BCC_ESM1.set_coords(['time_bnds', 'lat_bnds', 'lon_bnds'])\n",
    "#CNRM     = CNRM.set_coords(['time_bnds', 'lat_bnds', 'lon_bnds'])\n",
    "GFDL     = GFDL.set_coords(['time_bnds', 'lat_bnds', 'lon_bnds'])\n",
    "MRI      = MRI.set_coords(['time_bnds', 'lat_bnds', 'lon_bnds'])\n",
    "NorESM   = NorESM.set_coords(['time_bnds', 'lat_bnds', 'lon_bnds'])\n",
    "CESM     = CESM.set_coords(['time_bnds', 'lat_bnds', 'lon_bnds'])"
   ]
  },
  {
   "cell_type": "code",
   "execution_count": null,
   "metadata": {},
   "outputs": [],
   "source": [
    "#CESM"
   ]
  },
  {
   "cell_type": "markdown",
   "metadata": {},
   "source": [
    "### Setting up dictionary for easier manipulation"
   ]
  },
  {
   "cell_type": "code",
   "execution_count": 4,
   "metadata": {},
   "outputs": [],
   "source": [
    "co2_ds = dict()\n",
    "co2_ds['BCC_CSM2']  = BCC_CSM2.co2\n",
    "co2_ds['BCC_ESM1']  = BCC_ESM1.co2\n",
    "co2_ds['CNRM']      = CNRM.co2\n",
    "co2_ds['GFDL']      = GFDL.co2\n",
    "co2_ds['MRI']       = MRI.co2\n",
    "co2_ds['NorESM']    = NorESM.co2\n",
    "co2_ds['CESM']      = CESM.co2"
   ]
  },
  {
   "cell_type": "code",
   "execution_count": 5,
   "metadata": {},
   "outputs": [
    {
     "data": {
      "text/plain": [
       "{'BCC_CSM2': <xarray.DataArray 'co2' (time: 1980, plev: 19, lat: 160, lon: 320)>\n",
       " [1926144000 values with dtype=float32]\n",
       " Coordinates:\n",
       "   * time     (time) object 1850-01-16 12:00:00 ... 2014-12-16 12:00:00\n",
       "   * plev     (plev) float64 1e+05 9.25e+04 8.5e+04 7e+04 ... 1e+03 500.0 100.0\n",
       "   * lat      (lat) float64 -89.14 -88.03 -86.91 -85.79 ... 86.91 88.03 89.14\n",
       "   * lon      (lon) float64 0.0 1.125 2.25 3.375 4.5 ... 355.5 356.6 357.8 358.9\n",
       " Attributes:\n",
       "     standard_name:  mole_fraction_of_carbon_dioxide_in_air\n",
       "     long_name:      Mole Fraction of CO2\n",
       "     comment:        Mole fraction is used in the construction mole_fraction_o...\n",
       "     units:          mol mol-1\n",
       "     original_name:  CO2VMR\n",
       "     cell_methods:   time: mean (interval: 5 minutes)\n",
       "     cell_measures:  area: areacella,\n",
       " 'BCC_ESM1': <xarray.DataArray 'co2' (time: 1980, plev: 19, lat: 64, lon: 128)>\n",
       " [308183040 values with dtype=float32]\n",
       " Coordinates:\n",
       "   * time     (time) object 1850-01-16 12:00:00 ... 2014-12-16 12:00:00\n",
       "   * plev     (plev) float64 1e+05 9.25e+04 8.5e+04 7e+04 ... 1e+03 500.0 100.0\n",
       "   * lat      (lat) float64 -87.86 -85.1 -82.31 -79.53 ... 79.53 82.31 85.1 87.86\n",
       "   * lon      (lon) float64 0.0 2.812 5.625 8.438 ... 348.8 351.6 354.4 357.2\n",
       " Attributes:\n",
       "     standard_name:  mole_fraction_of_carbon_dioxide_in_air\n",
       "     long_name:      Mole Fraction of CO2\n",
       "     comment:        Mole fraction is used in the construction mole_fraction_o...\n",
       "     units:          mol mol-1\n",
       "     original_name:  CO2VMR\n",
       "     cell_methods:   time: mean (interval: 20 minutes)\n",
       "     cell_measures:  area: areacella,\n",
       " 'CNRM': <xarray.DataArray 'co2' (time: 1980, plev: 19, lat: 128, lon: 256)>\n",
       " [1232732160 values with dtype=float32]\n",
       " Coordinates:\n",
       "   * lat      (lat) float64 -88.93 -87.54 -86.14 -84.74 ... 86.14 87.54 88.93\n",
       "   * lon      (lon) float64 0.0 1.406 2.812 4.219 ... 354.4 355.8 357.2 358.6\n",
       "   * plev     (plev) float32 100000.0 92500.0 85000.0 ... 1000.0 500.0 100.0\n",
       "   * time     (time) datetime64[ns] 1850-01-16T12:00:00 ... 2014-12-16T12:00:00\n",
       " Attributes:\n",
       "     long_name:           Mole Fraction of CO2\n",
       "     units:               mol mol-1\n",
       "     online_operation:    average\n",
       "     cell_methods:        time: mean\n",
       "     interval_operation:  900 s\n",
       "     interval_write:      1 month\n",
       "     standard_name:       mole_fraction_of_carbon_dioxide_in_air\n",
       "     description:         Mole Fraction of CO2\n",
       "     history:             none\n",
       "     cell_measures:       area: areacella,\n",
       " 'GFDL': <xarray.DataArray 'co2' (time: 1980, plev: 19, lat: 180, lon: 288)>\n",
       " [1950220800 values with dtype=float32]\n",
       " Coordinates:\n",
       "   * lat      (lat) float64 -89.5 -88.5 -87.5 -86.5 -85.5 ... 86.5 87.5 88.5 89.5\n",
       "   * lon      (lon) float64 0.625 1.875 3.125 4.375 ... 355.6 356.9 358.1 359.4\n",
       "   * plev     (plev) float64 1e+05 9.25e+04 8.5e+04 7e+04 ... 1e+03 500.0 100.0\n",
       "   * time     (time) object 1850-01-16 12:00:00 ... 2014-12-16 12:00:00\n",
       " Attributes:\n",
       "     long_name:      Mole Fraction of CO2\n",
       "     units:          mol mol-1\n",
       "     cell_methods:   time: mean\n",
       "     cell_measures:  area: areacella\n",
       "     standard_name:  mole_fraction_of_carbon_dioxide_in_air\n",
       "     interp_method:  conserve_order2\n",
       "     original_name:  co2,\n",
       " 'MRI': <xarray.DataArray 'co2' (time: 1980, plev: 19, lat: 64, lon: 128)>\n",
       " [308183040 values with dtype=float32]\n",
       " Coordinates:\n",
       "   * time     (time) datetime64[ns] 1850-01-16T12:00:00 ... 2014-12-16T12:00:00\n",
       "   * plev     (plev) float64 1e+05 9.25e+04 8.5e+04 7e+04 ... 1e+03 500.0 100.0\n",
       "   * lat      (lat) float64 -87.86 -85.1 -82.31 -79.53 ... 79.53 82.31 85.1 87.86\n",
       "   * lon      (lon) float64 0.0 2.812 5.625 8.438 ... 348.8 351.6 354.4 357.2\n",
       " Attributes:\n",
       "     standard_name:  mole_fraction_of_carbon_dioxide_in_air\n",
       "     long_name:      Mole Fraction of CO2\n",
       "     comment:        Mole fraction is used in the construction mole_fraction_o...\n",
       "     units:          mol mol-1\n",
       "     original_name:  CO2\n",
       "     cell_methods:   time: mean\n",
       "     cell_measures:  area: areacella\n",
       "     history:        2019-03-01T08:57:54Z altered by CMOR: replaced missing va...,\n",
       " 'NorESM': <xarray.DataArray 'co2' (time: 1980, plev: 19, lat: 192, lon: 288)>\n",
       " [2080235520 values with dtype=float32]\n",
       " Coordinates:\n",
       "   * time     (time) object 1850-01-16 12:00:00 ... 2014-12-16 12:00:00\n",
       "   * plev     (plev) float64 1e+05 9.25e+04 8.5e+04 7e+04 ... 1e+03 500.0 100.0\n",
       "   * lat      (lat) float64 -90.0 -89.06 -88.12 -87.17 ... 87.17 88.12 89.06 90.0\n",
       "   * lon      (lon) float64 0.0 1.25 2.5 3.75 5.0 ... 355.0 356.2 357.5 358.8\n",
       " Attributes:\n",
       "     standard_name:   mole_fraction_of_carbon_dioxide_in_air\n",
       "     long_name:       Mole Fraction of CO2\n",
       "     comment:         Mole fraction is used in the construction mole_fraction_...\n",
       "     units:           mol mol-1\n",
       "     original_name:   CO2\n",
       "     original_units:  1e-6\n",
       "     history:         2019-11-25T21:52:36Z altered by CMOR: Converted units fr...\n",
       "     cell_methods:    time: mean\n",
       "     cell_measures:   area: areacella,\n",
       " 'CESM': <xarray.DataArray 'co2' (time: 1980, plev: 19, lat: 192, lon: 288)>\n",
       " [2080235520 values with dtype=float32]\n",
       " Coordinates:\n",
       "   * lat      (lat) float64 -90.0 -89.06 -88.12 -87.17 ... 87.17 88.12 89.06 90.0\n",
       "   * lon      (lon) float64 0.0 1.25 2.5 3.75 5.0 ... 355.0 356.2 357.5 358.8\n",
       "   * plev     (plev) float64 1e+05 9.25e+04 8.5e+04 7e+04 ... 1e+03 500.0 100.0\n",
       "   * time     (time) object 1850-01-15 12:00:00 ... 2014-12-15 12:00:00\n",
       " Attributes:\n",
       "     cell_measures:  area: areacella\n",
       "     cell_methods:   time: mean\n",
       "     comment:        vinth2p((CO2*28.966/44.0),hyam, hybm, plev, PS, P0)\n",
       "     description:    Mole fraction is used in the construction mole_fraction_o...\n",
       "     frequency:      mon\n",
       "     id:             co2\n",
       "     long_name:      Mole Fraction of CO2\n",
       "     mipTable:       Amon\n",
       "     out_name:       co2\n",
       "     prov:           Amon ((isd.003))\n",
       "     realm:          atmos\n",
       "     standard_name:  mole_fraction_of_carbon_dioxide_in_air\n",
       "     time:           time\n",
       "     time_label:     time-mean\n",
       "     time_title:     Temporal mean\n",
       "     title:          Mole Fraction of CO2\n",
       "     type:           real\n",
       "     units:          mol mol-1\n",
       "     variable_id:    co2}"
      ]
     },
     "execution_count": 5,
     "metadata": {},
     "output_type": "execute_result"
    }
   ],
   "source": [
    "co2_ds"
   ]
  },
  {
   "cell_type": "markdown",
   "metadata": {},
   "source": []
  },
  {
   "cell_type": "code",
   "execution_count": 6,
   "metadata": {},
   "outputs": [],
   "source": [
    "#conversion of CO2 from mol/mol to ppm\n",
    "convert = 10.0**6 * 28.966/44.0"
   ]
  },
  {
   "cell_type": "markdown",
   "metadata": {},
   "source": [
    "### Setting up arrays to subset points"
   ]
  },
  {
   "cell_type": "code",
   "execution_count": 7,
   "metadata": {},
   "outputs": [],
   "source": [
    "#Locations: Mauna Loa, Barrow, Niwot\n",
    "lats=np.array([71.3,19.5,40.1])\n",
    "lons=np.array([360-156.61,360-155.6,360-105.6])"
   ]
  },
  {
   "cell_type": "markdown",
   "metadata": {},
   "source": [
    "### Testing model and location subsets to determine maximum CO2 concentrations "
   ]
  },
  {
   "cell_type": "markdown",
   "metadata": {},
   "source": [
    "#### Why do most models have nans at Niwot at lowest level? There are similar problems with other locations & levels\n",
    "#### Why are values ~100 ppm lower than observations? "
   ]
  },
  {
   "cell_type": "code",
   "execution_count": 9,
   "metadata": {},
   "outputs": [],
   "source": [
    "#Locations: Mauna Loa=0, Barrow=1, Niwot=2\n",
    "x=1\n",
    "test = []\n",
    "test = co2_ds['CESM'].sel(lat=lats[x],lon=lons[x], method='nearest')\n",
    "#test = co2_ds['CESM'].sel(lat=slice(30,90))\n",
    "test = test.sel(time=slice(\"2010\", \"2015\"))\n",
    "test = test.isel(plev=0)*convert\n",
    "#test.max()\n",
    "\n",
    "## Max val at NWT is 289.86, lowest level with available data is plev=3\n",
    "## Max val at MLO is 291.16 (plev=0)\n",
    "## Max val at BRW is 288.55 (plev=1)"
   ]
  },
  {
   "cell_type": "code",
   "execution_count": null,
   "metadata": {},
   "outputs": [],
   "source": []
  },
  {
   "cell_type": "code",
   "execution_count": null,
   "metadata": {},
   "outputs": [],
   "source": []
  },
  {
   "cell_type": "markdown",
   "metadata": {
    "jupyter": {
     "source_hidden": true
    }
   },
   "source": [
    "NOTE: May want to consider remaking Graven plot\n",
    "change in CO2 amplitude vs CO2 amplitude over certain time period. \n",
    "\n",
    "NOTE: Values for CESM aren't consistent with other analysis. Incorrect calculations? \n",
    "other possible differences: processed for diff. atmosphere layers\n"
   ]
  },
  {
   "cell_type": "markdown",
   "metadata": {},
   "source": [
    "### Pulling out site locations"
   ]
  },
  {
   "cell_type": "code",
   "execution_count": 10,
   "metadata": {},
   "outputs": [],
   "source": [
    "ml_nbp = {}\n",
    "bar_nbp = {}\n",
    "nwt_nbp = {}\n",
    "\n",
    "ml_nbp_mean = {}\n",
    "ml_nbp_std = {}\n",
    "bar_nbp_mean = {}\n",
    "bar_nbp_std = {}\n",
    "nwt_nbp_mean = {}\n",
    "nwt_nbp_std = {}\n",
    "\n",
    "for sim_name, data in co2_ds.items():\n",
    "    ml = data.sel(lat=19.5,lon=204.4, method='nearest')\n",
    "    ml_nbp[sim_name] = ml.isel(plev=0) * convert\n",
    "    bar = data.sel(lat=71.3,lon=203.4, method='nearest')\n",
    "    bar_nbp[sim_name] = bar.isel(plev=0) * convert\n",
    "    nwt = data.sel(lat=40.1,lon=254.4, method='nearest')\n",
    "    nwt_nbp[sim_name] = nwt.isel(plev=0) * convert"
   ]
  },
  {
   "cell_type": "markdown",
   "metadata": {},
   "source": [
    "### Calculating amplitude time series and 2000-2015 mean and error for each location"
   ]
  },
  {
   "cell_type": "code",
   "execution_count": 11,
   "metadata": {},
   "outputs": [],
   "source": [
    "# Mauna Loa\n",
    "for sim_name, data in ml_nbp.items():\n",
    "    co2amp = data.resample(time=\"Y\").max() - data.resample(time=\"Y\").min()\n",
    "    ml_nbp[sim_name] = co2amp\n",
    "    co2_mean_amp = co2amp.sel(time=slice(\"2000\",\"2015\")).mean()\n",
    "    ml_nbp_mean[sim_name] = co2_mean_amp\n",
    "    co2_std_amp = co2amp.sel(time=slice(\"2000\",\"2015\")).std()\n",
    "    ml_nbp_std[sim_name] = co2_std_amp"
   ]
  },
  {
   "cell_type": "code",
   "execution_count": 12,
   "metadata": {},
   "outputs": [],
   "source": [
    "# Barrow\n",
    "for sim_name, data in bar_nbp.items():\n",
    "    co2amp = data.resample(time=\"Y\").max() - data.resample(time=\"Y\").min()\n",
    "    bar_nbp[sim_name] = co2amp\n",
    "    co2_mean_amp = co2amp.sel(time=slice(\"2000\",\"2015\")).mean()\n",
    "    bar_nbp_mean[sim_name] = co2_mean_amp\n",
    "    co2_std_amp = co2amp.sel(time=slice(\"2000\",\"2015\")).std()\n",
    "    bar_nbp_std[sim_name] = co2_std_amp"
   ]
  },
  {
   "cell_type": "code",
   "execution_count": 13,
   "metadata": {},
   "outputs": [],
   "source": [
    "# Niwot Ridge\n",
    "for sim_name, data in nwt_nbp.items():\n",
    "    co2amp = data.resample(time=\"Y\").max() - data.resample(time=\"Y\").min()\n",
    "    nwt_nbp[sim_name] = co2amp\n",
    "    co2_mean_amp = co2amp.sel(time=slice(\"2000\",\"2015\")).mean()\n",
    "    nwt_nbp_mean[sim_name] = co2_mean_amp\n",
    "    co2_std_amp = co2amp.sel(time=slice(\"2000\",\"2015\")).std()\n",
    "    nwt_nbp_std[sim_name] = co2_std_amp"
   ]
  },
  {
   "cell_type": "code",
   "execution_count": null,
   "metadata": {},
   "outputs": [],
   "source": [
    "#ml_nbp['CESM']\n",
    "#nwt_nbp_mean['CESM']"
   ]
  },
  {
   "cell_type": "markdown",
   "metadata": {},
   "source": [
    "### Plotting mean amplitude averaged for 2000-2015\n",
    "Only plots values for Barrow, other locations are nans for most (not all) models. Some models low/nans for Barrow\n",
    "CESM mean amplitude here seems lower than in my other plots (should be ~15 ppm)"
   ]
  },
  {
   "cell_type": "code",
   "execution_count": 14,
   "metadata": {},
   "outputs": [
    {
     "data": {
      "image/png": "[encoded data removed]",
      "text/plain": [
       "<Figure size 720x216 with 1 Axes>"
      ]
     },
     "metadata": {
      "needs_background": "light"
     },
     "output_type": "display_data"
    }
   ],
   "source": [
    "#Barrow\n",
    "plt.figure(figsize=(10,3))\n",
    "plt.bar(*zip(*bar_nbp_mean.items()))\n",
    "plt.show()"
   ]
  },
  {
   "cell_type": "code",
   "execution_count": 15,
   "metadata": {},
   "outputs": [
    {
     "data": {
      "image/png": "[encoded data removed]",
      "text/plain": [
       "<Figure size 720x216 with 1 Axes>"
      ]
     },
     "metadata": {
      "needs_background": "light"
     },
     "output_type": "display_data"
    }
   ],
   "source": [
    "#Mauna Loa\n",
    "plt.figure(figsize=(10,3))\n",
    "plt.bar(*zip(*ml_nbp_mean.items()))\n",
    "plt.show()"
   ]
  },
  {
   "cell_type": "code",
   "execution_count": 16,
   "metadata": {},
   "outputs": [
    {
     "data": {
      "image/png": "[encoded data removed]",
      "text/plain": [
       "<Figure size 720x216 with 1 Axes>"
      ]
     },
     "metadata": {
      "needs_background": "light"
     },
     "output_type": "display_data"
    }
   ],
   "source": [
    "#Niwot\n",
    "plt.figure(figsize=(10,3))\n",
    "plt.bar(*zip(*nwt_nbp_mean.items()))\n",
    "plt.show()"
   ]
  },
  {
   "cell_type": "code",
   "execution_count": null,
   "metadata": {},
   "outputs": [],
   "source": []
  },
  {
   "cell_type": "code",
   "execution_count": null,
   "metadata": {},
   "outputs": [],
   "source": []
  },
  {
   "cell_type": "code",
   "execution_count": null,
   "metadata": {},
   "outputs": [],
   "source": [
    "#This needs to be cleaned up\n",
    "fig = plt.figure(figsize=(10,3))\n",
    "for i,(site, data) in enumerate (nwt_nbp.items()):\n",
    "    ax = fig.add_subplot(2,4,i+1)\n",
    "    data.plot(color='darkorange', label='CESM1')\n",
    "#    plt.title(labels[i])\n",
    "    plt.ylabel(r'CO$_2$ amplitude [ppm]')\n",
    "    plt.xlabel('Year')\n",
    "    plt.ylim(0,12)\n",
    "    plt.tight_layout()\n",
    "#    plt.text(0.05, 0.93,panel[i], fontsize=14,\n",
    "#     ha='center', va='center', transform=plt.gca().transAxes)"
   ]
  },
  {
   "cell_type": "code",
   "execution_count": null,
   "metadata": {},
   "outputs": [],
   "source": []
  },
  {
   "cell_type": "code",
   "execution_count": null,
   "metadata": {},
   "outputs": [],
   "source": []
  },
  {
   "cell_type": "code",
   "execution_count": null,
   "metadata": {},
   "outputs": [],
   "source": [
    "for sim_name, data in co2_ds.items():\n",
    "    co2amp  = data.resample(time=\"Y\").max() - data.resample(time=\"Y\").min()\n",
    "#    co2amp  = co2amp * convert\n",
    "    co2_ds[sim_name] = co2amp"
   ]
  },
  {
   "cell_type": "code",
   "execution_count": null,
   "metadata": {},
   "outputs": [],
   "source": [
    "co2_ds"
   ]
  },
  {
   "cell_type": "code",
   "execution_count": null,
   "metadata": {},
   "outputs": [],
   "source": []
  },
  {
   "cell_type": "code",
   "execution_count": null,
   "metadata": {},
   "outputs": [],
   "source": []
  }
 ],
 "metadata": {
  "kernelspec": {
   "display_name": "CMIP6 2019.10",
   "language": "python",
   "name": "cmip6-201910"
  },
  "language_info": {
   "codemirror_mode": {
    "name": "ipython",
    "version": 3
   },
   "file_extension": ".py",
   "mimetype": "text/x-python",
   "name": "python",
   "nbconvert_exporter": "python",
   "pygments_lexer": "ipython3",
   "version": "3.7.8"
  }
 },
 "nbformat": 4,
 "nbformat_minor": 4
}
